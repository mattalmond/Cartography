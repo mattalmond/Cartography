{
 "cells": [
  {
   "cell_type": "markdown",
   "id": "c4854a14",
   "metadata": {
    "heading_collapsed": true
   },
   "source": [
    "# Create \"Nice\" Dataset"
   ]
  },
  {
   "cell_type": "code",
   "execution_count": 104,
   "id": "7ff5e98c",
   "metadata": {
    "hidden": true
   },
   "outputs": [],
   "source": [
    "import os\n",
    "import pandas as pd\n",
    "import numpy as np"
   ]
  },
  {
   "cell_type": "code",
   "execution_count": 105,
   "id": "abc063fc",
   "metadata": {
    "hidden": true
   },
   "outputs": [],
   "source": [
    "cwd = os.getcwd()\n",
    "nspl = os.path.join(cwd, os.listdir()[1], 'Data')\n",
    "csv_path = os.path.join(nspl, os.listdir(nspl)[0])\n",
    "csv_names = os.listdir(csv_path)\n",
    "csv_dict = {path.split('_')[-1].split('.')[0]: os.path.join(csv_path, path) for path in csv_names}"
   ]
  },
  {
   "cell_type": "code",
   "execution_count": 108,
   "id": "c965a226",
   "metadata": {
    "hidden": true
   },
   "outputs": [],
   "source": [
    "def rural_handle(index):\n",
    "    return index.split('.')[0]\n",
    "\n",
    "def reduce_nspl(df):\n",
    "    \n",
    "    new_df = df[[\n",
    "        'pcd','lat','long','ctry','rgn','cty','pcon','laua','park','ru11ind','doterm'\n",
    "    ]].copy()\n",
    "    \n",
    "    new_df = new_df[new_df.doterm != new_df.doterm]\n",
    "    new_df = new_df.drop('doterm', axis=1).reset_index(drop=True)\n",
    "    \n",
    "    new_df['lat']  = new_df['lat']*(10**6)\n",
    "    new_df['long'] = new_df['long']*(10**6)\n",
    "    #new_df = new_df.dropna(subset=['ru11ind'])\n",
    "    new_df = new_df.astype({\n",
    "        'lat'     : 'int32',\n",
    "        'long'    : 'int32',\n",
    "        'ru11ind' : 'str'\n",
    "    })\n",
    "    new_df['ru11ind'] = new_df['ru11ind'].apply(rural_handle)\n",
    "    \n",
    "    new_df.columns = [\n",
    "        'postcode','lat','long','country','region','county','pcon','laua','npark','ru11ind'\n",
    "    ]\n",
    "    \n",
    "    return new_df.copy()"
   ]
  },
  {
   "cell_type": "code",
   "execution_count": 107,
   "id": "b12e08c3",
   "metadata": {
    "hidden": true
   },
   "outputs": [],
   "source": [
    "base = pd.DataFrame(columns = [\n",
    "        'postcode','lat','long','country','region','county','pcon','laua','npark','ru11ind'\n",
    "    ])"
   ]
  },
  {
   "cell_type": "code",
   "execution_count": 109,
   "id": "e16b2850",
   "metadata": {
    "hidden": true
   },
   "outputs": [
    {
     "name": "stdout",
     "output_type": "stream",
     "text": [
      "AB\n",
      "AL\n",
      "B\n",
      "BA\n",
      "BB\n"
     ]
    },
    {
     "name": "stderr",
     "output_type": "stream",
     "text": [
      "C:\\Users\\Matt\\AppData\\Local\\Temp\\ipykernel_4004\\3161880246.py:3: DtypeWarning: Columns (36) have mixed types. Specify dtype option on import or set low_memory=False.\n",
      "  df = pd.read_csv(path)\n"
     ]
    },
    {
     "name": "stdout",
     "output_type": "stream",
     "text": [
      "BD\n",
      "BH\n",
      "BL\n",
      "BN\n",
      "BR\n",
      "BS\n",
      "BT\n",
      "CA\n",
      "CB\n",
      "CF\n",
      "CH\n",
      "CM\n",
      "CO\n",
      "CR\n",
      "CT\n",
      "CV\n",
      "CW\n",
      "DA\n",
      "DD\n",
      "DE\n",
      "DG\n",
      "DH\n",
      "DL\n",
      "DN\n",
      "DT\n",
      "DY\n",
      "E\n",
      "EC\n",
      "EH\n",
      "EN\n",
      "EX\n",
      "FK\n",
      "FY\n",
      "G\n",
      "GL\n"
     ]
    },
    {
     "name": "stderr",
     "output_type": "stream",
     "text": [
      "C:\\Users\\Matt\\AppData\\Local\\Temp\\ipykernel_4004\\3161880246.py:3: DtypeWarning: Columns (36) have mixed types. Specify dtype option on import or set low_memory=False.\n",
      "  df = pd.read_csv(path)\n"
     ]
    },
    {
     "name": "stdout",
     "output_type": "stream",
     "text": [
      "GU\n",
      "GY\n",
      "HA\n",
      "HD\n",
      "HG\n",
      "HP\n",
      "HR\n",
      "HS\n",
      "HU\n",
      "HX\n",
      "IG\n",
      "IM\n",
      "IP\n",
      "IV\n",
      "JE\n",
      "KA\n",
      "KT\n",
      "KW\n",
      "KY\n",
      "L\n",
      "LA\n",
      "LD\n",
      "LE\n",
      "LL\n",
      "LN\n",
      "LS\n",
      "LU\n",
      "M\n",
      "ME\n",
      "MK\n"
     ]
    },
    {
     "name": "stderr",
     "output_type": "stream",
     "text": [
      "C:\\Users\\Matt\\AppData\\Local\\Temp\\ipykernel_4004\\3161880246.py:3: DtypeWarning: Columns (36) have mixed types. Specify dtype option on import or set low_memory=False.\n",
      "  df = pd.read_csv(path)\n"
     ]
    },
    {
     "name": "stdout",
     "output_type": "stream",
     "text": [
      "ML\n",
      "N\n",
      "NE\n",
      "NG\n"
     ]
    },
    {
     "name": "stderr",
     "output_type": "stream",
     "text": [
      "C:\\Users\\Matt\\AppData\\Local\\Temp\\ipykernel_4004\\3161880246.py:3: DtypeWarning: Columns (36) have mixed types. Specify dtype option on import or set low_memory=False.\n",
      "  df = pd.read_csv(path)\n"
     ]
    },
    {
     "name": "stdout",
     "output_type": "stream",
     "text": [
      "NN\n"
     ]
    },
    {
     "name": "stderr",
     "output_type": "stream",
     "text": [
      "C:\\Users\\Matt\\AppData\\Local\\Temp\\ipykernel_4004\\3161880246.py:3: DtypeWarning: Columns (36) have mixed types. Specify dtype option on import or set low_memory=False.\n",
      "  df = pd.read_csv(path)\n"
     ]
    },
    {
     "name": "stdout",
     "output_type": "stream",
     "text": [
      "NP\n",
      "NR\n"
     ]
    },
    {
     "name": "stderr",
     "output_type": "stream",
     "text": [
      "C:\\Users\\Matt\\AppData\\Local\\Temp\\ipykernel_4004\\3161880246.py:3: DtypeWarning: Columns (36) have mixed types. Specify dtype option on import or set low_memory=False.\n",
      "  df = pd.read_csv(path)\n"
     ]
    },
    {
     "name": "stdout",
     "output_type": "stream",
     "text": [
      "NW\n",
      "OL\n",
      "OX\n",
      "PA\n",
      "PE\n",
      "PH\n",
      "PL\n",
      "PO\n",
      "PR\n"
     ]
    },
    {
     "name": "stderr",
     "output_type": "stream",
     "text": [
      "C:\\Users\\Matt\\AppData\\Local\\Temp\\ipykernel_4004\\3161880246.py:3: DtypeWarning: Columns (36) have mixed types. Specify dtype option on import or set low_memory=False.\n",
      "  df = pd.read_csv(path)\n"
     ]
    },
    {
     "name": "stdout",
     "output_type": "stream",
     "text": [
      "RG\n",
      "RH\n"
     ]
    },
    {
     "name": "stderr",
     "output_type": "stream",
     "text": [
      "C:\\Users\\Matt\\AppData\\Local\\Temp\\ipykernel_4004\\3161880246.py:3: DtypeWarning: Columns (36) have mixed types. Specify dtype option on import or set low_memory=False.\n",
      "  df = pd.read_csv(path)\n"
     ]
    },
    {
     "name": "stdout",
     "output_type": "stream",
     "text": [
      "RM\n",
      "S\n"
     ]
    },
    {
     "name": "stderr",
     "output_type": "stream",
     "text": [
      "C:\\Users\\Matt\\AppData\\Local\\Temp\\ipykernel_4004\\3161880246.py:3: DtypeWarning: Columns (36) have mixed types. Specify dtype option on import or set low_memory=False.\n",
      "  df = pd.read_csv(path)\n"
     ]
    },
    {
     "name": "stdout",
     "output_type": "stream",
     "text": [
      "SA\n",
      "SE\n"
     ]
    },
    {
     "name": "stderr",
     "output_type": "stream",
     "text": [
      "C:\\Users\\Matt\\AppData\\Local\\Temp\\ipykernel_4004\\3161880246.py:3: DtypeWarning: Columns (36) have mixed types. Specify dtype option on import or set low_memory=False.\n",
      "  df = pd.read_csv(path)\n"
     ]
    },
    {
     "name": "stdout",
     "output_type": "stream",
     "text": [
      "SG\n",
      "SK\n"
     ]
    },
    {
     "name": "stderr",
     "output_type": "stream",
     "text": [
      "C:\\Users\\Matt\\AppData\\Local\\Temp\\ipykernel_4004\\3161880246.py:3: DtypeWarning: Columns (36) have mixed types. Specify dtype option on import or set low_memory=False.\n",
      "  df = pd.read_csv(path)\n"
     ]
    },
    {
     "name": "stdout",
     "output_type": "stream",
     "text": [
      "SL\n",
      "SM\n",
      "SN\n",
      "SO\n",
      "SP\n",
      "SR\n",
      "SS\n",
      "ST\n"
     ]
    },
    {
     "name": "stderr",
     "output_type": "stream",
     "text": [
      "C:\\Users\\Matt\\AppData\\Local\\Temp\\ipykernel_4004\\3161880246.py:3: DtypeWarning: Columns (36) have mixed types. Specify dtype option on import or set low_memory=False.\n",
      "  df = pd.read_csv(path)\n"
     ]
    },
    {
     "name": "stdout",
     "output_type": "stream",
     "text": [
      "SW\n"
     ]
    },
    {
     "name": "stderr",
     "output_type": "stream",
     "text": [
      "C:\\Users\\Matt\\AppData\\Local\\Temp\\ipykernel_4004\\3161880246.py:3: DtypeWarning: Columns (36) have mixed types. Specify dtype option on import or set low_memory=False.\n",
      "  df = pd.read_csv(path)\n"
     ]
    },
    {
     "name": "stdout",
     "output_type": "stream",
     "text": [
      "SY\n",
      "TA\n",
      "TD\n",
      "TF\n",
      "TN\n"
     ]
    },
    {
     "name": "stderr",
     "output_type": "stream",
     "text": [
      "C:\\Users\\Matt\\AppData\\Local\\Temp\\ipykernel_4004\\3161880246.py:3: DtypeWarning: Columns (36) have mixed types. Specify dtype option on import or set low_memory=False.\n",
      "  df = pd.read_csv(path)\n"
     ]
    },
    {
     "name": "stdout",
     "output_type": "stream",
     "text": [
      "TQ\n",
      "TR\n",
      "TS\n",
      "TW\n",
      "UB\n",
      "W\n",
      "WA\n",
      "WC\n",
      "WD\n",
      "WF\n",
      "WN\n",
      "WR\n",
      "WS\n",
      "WV\n",
      "YO\n",
      "ZE\n"
     ]
    }
   ],
   "source": [
    "for pc, path in csv_dict.items():\n",
    "    print(pc)\n",
    "    df = pd.read_csv(path)\n",
    "    df_2 = reduce_nspl(df)\n",
    "    base = pd.concat([base, df_2], ignore_index=True)\n",
    "    #print(df_2.columns)\n",
    "    #print(base.columns)"
   ]
  },
  {
   "cell_type": "code",
   "execution_count": 110,
   "id": "ee34dc4d",
   "metadata": {
    "hidden": true
   },
   "outputs": [
    {
     "data": {
      "text/html": [
       "<div>\n",
       "<style scoped>\n",
       "    .dataframe tbody tr th:only-of-type {\n",
       "        vertical-align: middle;\n",
       "    }\n",
       "\n",
       "    .dataframe tbody tr th {\n",
       "        vertical-align: top;\n",
       "    }\n",
       "\n",
       "    .dataframe thead th {\n",
       "        text-align: right;\n",
       "    }\n",
       "</style>\n",
       "<table border=\"1\" class=\"dataframe\">\n",
       "  <thead>\n",
       "    <tr style=\"text-align: right;\">\n",
       "      <th></th>\n",
       "      <th>postcode</th>\n",
       "      <th>lat</th>\n",
       "      <th>long</th>\n",
       "      <th>country</th>\n",
       "      <th>region</th>\n",
       "      <th>county</th>\n",
       "      <th>pcon</th>\n",
       "      <th>laua</th>\n",
       "      <th>npark</th>\n",
       "      <th>ru11ind</th>\n",
       "    </tr>\n",
       "  </thead>\n",
       "  <tbody>\n",
       "    <tr>\n",
       "      <th>0</th>\n",
       "      <td>AB101AB</td>\n",
       "      <td>57149606</td>\n",
       "      <td>-2096915</td>\n",
       "      <td>S92000003</td>\n",
       "      <td>S99999999</td>\n",
       "      <td>S99999999</td>\n",
       "      <td>S14000001</td>\n",
       "      <td>S12000033</td>\n",
       "      <td>S99999999</td>\n",
       "      <td>1</td>\n",
       "    </tr>\n",
       "    <tr>\n",
       "      <th>1</th>\n",
       "      <td>AB101AF</td>\n",
       "      <td>57148707</td>\n",
       "      <td>-2097806</td>\n",
       "      <td>S92000003</td>\n",
       "      <td>S99999999</td>\n",
       "      <td>S99999999</td>\n",
       "      <td>S14000001</td>\n",
       "      <td>S12000033</td>\n",
       "      <td>S99999999</td>\n",
       "      <td>1</td>\n",
       "    </tr>\n",
       "    <tr>\n",
       "      <th>2</th>\n",
       "      <td>AB101AG</td>\n",
       "      <td>57149051</td>\n",
       "      <td>-2097004</td>\n",
       "      <td>S92000003</td>\n",
       "      <td>S99999999</td>\n",
       "      <td>S99999999</td>\n",
       "      <td>S14000001</td>\n",
       "      <td>S12000033</td>\n",
       "      <td>S99999999</td>\n",
       "      <td>1</td>\n",
       "    </tr>\n",
       "    <tr>\n",
       "      <th>3</th>\n",
       "      <td>AB101AH</td>\n",
       "      <td>57148080</td>\n",
       "      <td>-2094663</td>\n",
       "      <td>S92000003</td>\n",
       "      <td>S99999999</td>\n",
       "      <td>S99999999</td>\n",
       "      <td>S14000001</td>\n",
       "      <td>S12000033</td>\n",
       "      <td>S99999999</td>\n",
       "      <td>1</td>\n",
       "    </tr>\n",
       "    <tr>\n",
       "      <th>4</th>\n",
       "      <td>AB101AL</td>\n",
       "      <td>57150058</td>\n",
       "      <td>-2095916</td>\n",
       "      <td>S92000003</td>\n",
       "      <td>S99999999</td>\n",
       "      <td>S99999999</td>\n",
       "      <td>S14000001</td>\n",
       "      <td>S12000033</td>\n",
       "      <td>S99999999</td>\n",
       "      <td>1</td>\n",
       "    </tr>\n",
       "    <tr>\n",
       "      <th>...</th>\n",
       "      <td>...</td>\n",
       "      <td>...</td>\n",
       "      <td>...</td>\n",
       "      <td>...</td>\n",
       "      <td>...</td>\n",
       "      <td>...</td>\n",
       "      <td>...</td>\n",
       "      <td>...</td>\n",
       "      <td>...</td>\n",
       "      <td>...</td>\n",
       "    </tr>\n",
       "    <tr>\n",
       "      <th>1769066</th>\n",
       "      <td>ZE3 9JU</td>\n",
       "      <td>59889544</td>\n",
       "      <td>-1307206</td>\n",
       "      <td>S92000003</td>\n",
       "      <td>S99999999</td>\n",
       "      <td>S99999999</td>\n",
       "      <td>S14000051</td>\n",
       "      <td>S12000027</td>\n",
       "      <td>S99999999</td>\n",
       "      <td>8</td>\n",
       "    </tr>\n",
       "    <tr>\n",
       "      <th>1769067</th>\n",
       "      <td>ZE3 9JW</td>\n",
       "      <td>59873651</td>\n",
       "      <td>-1305697</td>\n",
       "      <td>S92000003</td>\n",
       "      <td>S99999999</td>\n",
       "      <td>S99999999</td>\n",
       "      <td>S14000051</td>\n",
       "      <td>S12000027</td>\n",
       "      <td>S99999999</td>\n",
       "      <td>8</td>\n",
       "    </tr>\n",
       "    <tr>\n",
       "      <th>1769068</th>\n",
       "      <td>ZE3 9JX</td>\n",
       "      <td>59875286</td>\n",
       "      <td>-1307502</td>\n",
       "      <td>S92000003</td>\n",
       "      <td>S99999999</td>\n",
       "      <td>S99999999</td>\n",
       "      <td>S14000051</td>\n",
       "      <td>S12000027</td>\n",
       "      <td>S99999999</td>\n",
       "      <td>8</td>\n",
       "    </tr>\n",
       "    <tr>\n",
       "      <th>1769069</th>\n",
       "      <td>ZE3 9JY</td>\n",
       "      <td>59891572</td>\n",
       "      <td>-1313847</td>\n",
       "      <td>S92000003</td>\n",
       "      <td>S99999999</td>\n",
       "      <td>S99999999</td>\n",
       "      <td>S14000051</td>\n",
       "      <td>S12000027</td>\n",
       "      <td>S99999999</td>\n",
       "      <td>8</td>\n",
       "    </tr>\n",
       "    <tr>\n",
       "      <th>1769070</th>\n",
       "      <td>ZE3 9JZ</td>\n",
       "      <td>59892392</td>\n",
       "      <td>-1310899</td>\n",
       "      <td>S92000003</td>\n",
       "      <td>S99999999</td>\n",
       "      <td>S99999999</td>\n",
       "      <td>S14000051</td>\n",
       "      <td>S12000027</td>\n",
       "      <td>S99999999</td>\n",
       "      <td>8</td>\n",
       "    </tr>\n",
       "  </tbody>\n",
       "</table>\n",
       "<p>1769071 rows × 10 columns</p>\n",
       "</div>"
      ],
      "text/plain": [
       "        postcode       lat      long    country     region     county  \\\n",
       "0        AB101AB  57149606  -2096915  S92000003  S99999999  S99999999   \n",
       "1        AB101AF  57148707  -2097806  S92000003  S99999999  S99999999   \n",
       "2        AB101AG  57149051  -2097004  S92000003  S99999999  S99999999   \n",
       "3        AB101AH  57148080  -2094663  S92000003  S99999999  S99999999   \n",
       "4        AB101AL  57150058  -2095916  S92000003  S99999999  S99999999   \n",
       "...          ...       ...       ...        ...        ...        ...   \n",
       "1769066  ZE3 9JU  59889544  -1307206  S92000003  S99999999  S99999999   \n",
       "1769067  ZE3 9JW  59873651  -1305697  S92000003  S99999999  S99999999   \n",
       "1769068  ZE3 9JX  59875286  -1307502  S92000003  S99999999  S99999999   \n",
       "1769069  ZE3 9JY  59891572  -1313847  S92000003  S99999999  S99999999   \n",
       "1769070  ZE3 9JZ  59892392  -1310899  S92000003  S99999999  S99999999   \n",
       "\n",
       "              pcon       laua      npark ru11ind  \n",
       "0        S14000001  S12000033  S99999999       1  \n",
       "1        S14000001  S12000033  S99999999       1  \n",
       "2        S14000001  S12000033  S99999999       1  \n",
       "3        S14000001  S12000033  S99999999       1  \n",
       "4        S14000001  S12000033  S99999999       1  \n",
       "...            ...        ...        ...     ...  \n",
       "1769066  S14000051  S12000027  S99999999       8  \n",
       "1769067  S14000051  S12000027  S99999999       8  \n",
       "1769068  S14000051  S12000027  S99999999       8  \n",
       "1769069  S14000051  S12000027  S99999999       8  \n",
       "1769070  S14000051  S12000027  S99999999       8  \n",
       "\n",
       "[1769071 rows x 10 columns]"
      ]
     },
     "execution_count": 110,
     "metadata": {},
     "output_type": "execute_result"
    }
   ],
   "source": [
    "base"
   ]
  },
  {
   "cell_type": "code",
   "execution_count": 135,
   "id": "525c34db",
   "metadata": {
    "hidden": true
   },
   "outputs": [],
   "source": [
    "base = base.dropna(subset=['lat', 'long'])\n",
    "base = base[base['lat']<99999999]"
   ]
  },
  {
   "cell_type": "code",
   "execution_count": 136,
   "id": "74253e55",
   "metadata": {
    "hidden": true
   },
   "outputs": [],
   "source": [
    "base.to_csv('NSPL_Matt.csv', index=False)"
   ]
  },
  {
   "cell_type": "markdown",
   "id": "8d5786e4",
   "metadata": {},
   "source": [
    "# Manage the larger dataset"
   ]
  },
  {
   "cell_type": "code",
   "execution_count": 1,
   "id": "33167dbd",
   "metadata": {},
   "outputs": [],
   "source": [
    "import pandas as pd\n",
    "import numpy as np"
   ]
  },
  {
   "cell_type": "code",
   "execution_count": 2,
   "id": "aee16ac3",
   "metadata": {},
   "outputs": [],
   "source": [
    "nspl = pd.read_csv('NSPL_Matt.csv')"
   ]
  },
  {
   "cell_type": "markdown",
   "id": "30d0f7e4",
   "metadata": {
    "heading_collapsed": true
   },
   "source": [
    "## Creating a flat lat+long"
   ]
  },
  {
   "cell_type": "code",
   "execution_count": 3,
   "id": "5a377830",
   "metadata": {
    "hidden": true
   },
   "outputs": [],
   "source": [
    "maxes = np.max(nspl[['lat', 'long']].values, axis=0)\n",
    "mins  = np.min(nspl[['lat', 'long']].values, axis=0)\n",
    "maxes[0] = 58702140\n",
    "means = (maxes + mins)/2"
   ]
  },
  {
   "cell_type": "code",
   "execution_count": 4,
   "id": "980fd0c9",
   "metadata": {
    "hidden": true
   },
   "outputs": [],
   "source": [
    "ref_points = np.array([\n",
    "    [mins[1], means[0]],\n",
    "    [means[1], mins[0]],\n",
    "    [maxes[1], means[0]],\n",
    "    [means[1], maxes[0]],\n",
    "    [-127600, 51507200]\n",
    "])"
   ]
  },
  {
   "cell_type": "code",
   "execution_count": 5,
   "id": "f7da928a",
   "metadata": {
    "hidden": true
   },
   "outputs": [],
   "source": [
    "R = 6376.64137\n",
    "x0 = (maxes[1] + mins[1])/(2*10**6)\n",
    "y0 = (maxes[0] + mins[0])/(2*10**6)\n",
    "y1 = (mins[0] + (maxes[0] - mins[0])/6)/10**6\n",
    "y2 = (maxes[0] - (maxes[0] - mins[0])/6)/10**6\n",
    "\n",
    "x0 = x0*2*np.pi/360\n",
    "y0 = y0*2*np.pi/360\n",
    "y1 = y1*2*np.pi/360\n",
    "y2 = y2*2*np.pi/360\n",
    "\n",
    "n     = (np.sin(y1) + np.sin(y2))/2\n",
    "C     = np.cos(y1)**2 + 2*n*np.sin(y1)\n",
    "rho_0 = R*(np.sqrt(C - 2*n*np.sin(y0)))/n"
   ]
  },
  {
   "cell_type": "code",
   "execution_count": 6,
   "id": "403f9bae",
   "metadata": {
    "hidden": true
   },
   "outputs": [],
   "source": [
    "xy_df = nspl[['lat', 'long']].copy()\n",
    "\n",
    "theta = n*(ref_points[:,0]*2*np.pi/360000000 - x0)\n",
    "rho   = R*(np.sqrt(C - 2*n*np.sin(ref_points[:,1]*2*np.pi/360000000)))/n\n",
    "\n",
    "ref_x = rho*np.sin(theta)\n",
    "ref_y = rho_0 - rho*np.cos(theta)\n",
    "\n",
    "theta = n*(xy_df['long'].values*2*np.pi/360000000 - x0)\n",
    "rho   = R*(np.sqrt(C - 2*n*np.sin(xy_df['lat'].values*2*np.pi/360000000)))/n\n",
    "\n",
    "xy_df['x'] = rho*np.sin(theta) - ref_x[4]\n",
    "xy_df['y'] = rho_0 - rho*np.cos(theta) - ref_y[4]\n",
    "\n",
    "ref_x -= ref_x[4]\n",
    "ref_y -= ref_y[4]"
   ]
  },
  {
   "cell_type": "code",
   "execution_count": 7,
   "id": "a2289cfb",
   "metadata": {
    "hidden": true
   },
   "outputs": [
    {
     "data": {
      "text/html": [
       "<div>\n",
       "<style scoped>\n",
       "    .dataframe tbody tr th:only-of-type {\n",
       "        vertical-align: middle;\n",
       "    }\n",
       "\n",
       "    .dataframe tbody tr th {\n",
       "        vertical-align: top;\n",
       "    }\n",
       "\n",
       "    .dataframe thead th {\n",
       "        text-align: right;\n",
       "    }\n",
       "</style>\n",
       "<table border=\"1\" class=\"dataframe\">\n",
       "  <thead>\n",
       "    <tr style=\"text-align: right;\">\n",
       "      <th></th>\n",
       "      <th>lat</th>\n",
       "      <th>long</th>\n",
       "      <th>x</th>\n",
       "      <th>y</th>\n",
       "    </tr>\n",
       "  </thead>\n",
       "  <tbody>\n",
       "    <tr>\n",
       "      <th>0</th>\n",
       "      <td>57149606</td>\n",
       "      <td>-2096915</td>\n",
       "      <td>-146.161338</td>\n",
       "      <td>624.424060</td>\n",
       "    </tr>\n",
       "    <tr>\n",
       "      <th>1</th>\n",
       "      <td>57148707</td>\n",
       "      <td>-2097806</td>\n",
       "      <td>-146.213555</td>\n",
       "      <td>624.323171</td>\n",
       "    </tr>\n",
       "    <tr>\n",
       "      <th>2</th>\n",
       "      <td>57149051</td>\n",
       "      <td>-2097004</td>\n",
       "      <td>-146.165744</td>\n",
       "      <td>624.362211</td>\n",
       "    </tr>\n",
       "    <tr>\n",
       "      <th>3</th>\n",
       "      <td>57148080</td>\n",
       "      <td>-2094663</td>\n",
       "      <td>-146.022750</td>\n",
       "      <td>624.256361</td>\n",
       "    </tr>\n",
       "    <tr>\n",
       "      <th>4</th>\n",
       "      <td>57150058</td>\n",
       "      <td>-2095916</td>\n",
       "      <td>-146.101827</td>\n",
       "      <td>624.475306</td>\n",
       "    </tr>\n",
       "    <tr>\n",
       "      <th>...</th>\n",
       "      <td>...</td>\n",
       "      <td>...</td>\n",
       "      <td>...</td>\n",
       "      <td>...</td>\n",
       "    </tr>\n",
       "    <tr>\n",
       "      <th>1756483</th>\n",
       "      <td>59889544</td>\n",
       "      <td>-1307206</td>\n",
       "      <td>-106.661593</td>\n",
       "      <td>929.745694</td>\n",
       "    </tr>\n",
       "    <tr>\n",
       "      <th>1756484</th>\n",
       "      <td>59873651</td>\n",
       "      <td>-1305697</td>\n",
       "      <td>-106.529768</td>\n",
       "      <td>927.986868</td>\n",
       "    </tr>\n",
       "    <tr>\n",
       "      <th>1756485</th>\n",
       "      <td>59875286</td>\n",
       "      <td>-1307502</td>\n",
       "      <td>-106.635818</td>\n",
       "      <td>928.165330</td>\n",
       "    </tr>\n",
       "    <tr>\n",
       "      <th>1756486</th>\n",
       "      <td>59891572</td>\n",
       "      <td>-1313847</td>\n",
       "      <td>-107.039740</td>\n",
       "      <td>929.960450</td>\n",
       "    </tr>\n",
       "    <tr>\n",
       "      <th>1756487</th>\n",
       "      <td>59892392</td>\n",
       "      <td>-1310899</td>\n",
       "      <td>-106.876984</td>\n",
       "      <td>930.055730</td>\n",
       "    </tr>\n",
       "  </tbody>\n",
       "</table>\n",
       "<p>1756488 rows × 4 columns</p>\n",
       "</div>"
      ],
      "text/plain": [
       "              lat     long           x           y\n",
       "0        57149606 -2096915 -146.161338  624.424060\n",
       "1        57148707 -2097806 -146.213555  624.323171\n",
       "2        57149051 -2097004 -146.165744  624.362211\n",
       "3        57148080 -2094663 -146.022750  624.256361\n",
       "4        57150058 -2095916 -146.101827  624.475306\n",
       "...           ...      ...         ...         ...\n",
       "1756483  59889544 -1307206 -106.661593  929.745694\n",
       "1756484  59873651 -1305697 -106.529768  927.986868\n",
       "1756485  59875286 -1307502 -106.635818  928.165330\n",
       "1756486  59891572 -1313847 -107.039740  929.960450\n",
       "1756487  59892392 -1310899 -106.876984  930.055730\n",
       "\n",
       "[1756488 rows x 4 columns]"
      ]
     },
     "execution_count": 7,
     "metadata": {},
     "output_type": "execute_result"
    }
   ],
   "source": [
    "xy_df"
   ]
  },
  {
   "cell_type": "code",
   "execution_count": 8,
   "id": "2233efa3",
   "metadata": {
    "hidden": true
   },
   "outputs": [],
   "source": [
    "import matplotlib as mpl\n",
    "import matplotlib.pyplot as plt"
   ]
  },
  {
   "cell_type": "code",
   "execution_count": 9,
   "id": "344185be",
   "metadata": {
    "hidden": true
   },
   "outputs": [
    {
     "data": {
      "text/plain": [
       "<matplotlib.collections.PathCollection at 0x11e85f272b0>"
      ]
     },
     "execution_count": 9,
     "metadata": {},
     "output_type": "execute_result"
    },
    {
     "data": {
      "image/png": "[encoded data removed]",
      "text/plain": [
       "<Figure size 640x480 with 1 Axes>"
      ]
     },
     "metadata": {},
     "output_type": "display_data"
    }
   ],
   "source": [
    "fig, ax = plt.subplots()\n",
    "ax.set_aspect('equal', 'box')\n",
    "ax.scatter(xy_df['x'].values, xy_df['y'].values, s=2)\n",
    "ax.scatter(ref_x, ref_y, color='red')"
   ]
  },
  {
   "cell_type": "code",
   "execution_count": 10,
   "id": "96196571",
   "metadata": {
    "hidden": true
   },
   "outputs": [],
   "source": [
    "nspl['north'] = xy_df['y']\n",
    "nspl['east']  = xy_df['x']"
   ]
  },
  {
   "cell_type": "code",
   "execution_count": 11,
   "id": "ee56554a",
   "metadata": {
    "hidden": true
   },
   "outputs": [],
   "source": [
    "nspl.to_csv('NSPL_Matt.csv', index=False)"
   ]
  },
  {
   "cell_type": "markdown",
   "id": "4d356269",
   "metadata": {
    "heading_collapsed": true
   },
   "source": [
    "## Region Granularity Hierarchy"
   ]
  },
  {
   "cell_type": "code",
   "execution_count": 3,
   "id": "78f75183",
   "metadata": {
    "hidden": true
   },
   "outputs": [
    {
     "data": {
      "text/html": [
       "<div>\n",
       "<style scoped>\n",
       "    .dataframe tbody tr th:only-of-type {\n",
       "        vertical-align: middle;\n",
       "    }\n",
       "\n",
       "    .dataframe tbody tr th {\n",
       "        vertical-align: top;\n",
       "    }\n",
       "\n",
       "    .dataframe thead th {\n",
       "        text-align: right;\n",
       "    }\n",
       "</style>\n",
       "<table border=\"1\" class=\"dataframe\">\n",
       "  <thead>\n",
       "    <tr style=\"text-align: right;\">\n",
       "      <th></th>\n",
       "      <th>postcode</th>\n",
       "      <th>lat</th>\n",
       "      <th>long</th>\n",
       "      <th>country</th>\n",
       "      <th>region</th>\n",
       "      <th>county</th>\n",
       "      <th>pcon</th>\n",
       "      <th>laua</th>\n",
       "      <th>npark</th>\n",
       "      <th>ru11ind</th>\n",
       "      <th>north</th>\n",
       "      <th>east</th>\n",
       "    </tr>\n",
       "  </thead>\n",
       "  <tbody>\n",
       "    <tr>\n",
       "      <th>0</th>\n",
       "      <td>AB101AB</td>\n",
       "      <td>57149606</td>\n",
       "      <td>-2096915</td>\n",
       "      <td>S92000003</td>\n",
       "      <td>S99999999</td>\n",
       "      <td>S99999999</td>\n",
       "      <td>S14000001</td>\n",
       "      <td>S12000033</td>\n",
       "      <td>S99999999</td>\n",
       "      <td>1</td>\n",
       "      <td>624.424060</td>\n",
       "      <td>-146.161338</td>\n",
       "    </tr>\n",
       "    <tr>\n",
       "      <th>1</th>\n",
       "      <td>AB101AF</td>\n",
       "      <td>57148707</td>\n",
       "      <td>-2097806</td>\n",
       "      <td>S92000003</td>\n",
       "      <td>S99999999</td>\n",
       "      <td>S99999999</td>\n",
       "      <td>S14000001</td>\n",
       "      <td>S12000033</td>\n",
       "      <td>S99999999</td>\n",
       "      <td>1</td>\n",
       "      <td>624.323171</td>\n",
       "      <td>-146.213555</td>\n",
       "    </tr>\n",
       "    <tr>\n",
       "      <th>2</th>\n",
       "      <td>AB101AG</td>\n",
       "      <td>57149051</td>\n",
       "      <td>-2097004</td>\n",
       "      <td>S92000003</td>\n",
       "      <td>S99999999</td>\n",
       "      <td>S99999999</td>\n",
       "      <td>S14000001</td>\n",
       "      <td>S12000033</td>\n",
       "      <td>S99999999</td>\n",
       "      <td>1</td>\n",
       "      <td>624.362211</td>\n",
       "      <td>-146.165744</td>\n",
       "    </tr>\n",
       "    <tr>\n",
       "      <th>3</th>\n",
       "      <td>AB101AH</td>\n",
       "      <td>57148080</td>\n",
       "      <td>-2094663</td>\n",
       "      <td>S92000003</td>\n",
       "      <td>S99999999</td>\n",
       "      <td>S99999999</td>\n",
       "      <td>S14000001</td>\n",
       "      <td>S12000033</td>\n",
       "      <td>S99999999</td>\n",
       "      <td>1</td>\n",
       "      <td>624.256361</td>\n",
       "      <td>-146.022750</td>\n",
       "    </tr>\n",
       "    <tr>\n",
       "      <th>4</th>\n",
       "      <td>AB101AL</td>\n",
       "      <td>57150058</td>\n",
       "      <td>-2095916</td>\n",
       "      <td>S92000003</td>\n",
       "      <td>S99999999</td>\n",
       "      <td>S99999999</td>\n",
       "      <td>S14000001</td>\n",
       "      <td>S12000033</td>\n",
       "      <td>S99999999</td>\n",
       "      <td>1</td>\n",
       "      <td>624.475306</td>\n",
       "      <td>-146.101827</td>\n",
       "    </tr>\n",
       "    <tr>\n",
       "      <th>...</th>\n",
       "      <td>...</td>\n",
       "      <td>...</td>\n",
       "      <td>...</td>\n",
       "      <td>...</td>\n",
       "      <td>...</td>\n",
       "      <td>...</td>\n",
       "      <td>...</td>\n",
       "      <td>...</td>\n",
       "      <td>...</td>\n",
       "      <td>...</td>\n",
       "      <td>...</td>\n",
       "      <td>...</td>\n",
       "    </tr>\n",
       "    <tr>\n",
       "      <th>1756483</th>\n",
       "      <td>ZE3 9JU</td>\n",
       "      <td>59889544</td>\n",
       "      <td>-1307206</td>\n",
       "      <td>S92000003</td>\n",
       "      <td>S99999999</td>\n",
       "      <td>S99999999</td>\n",
       "      <td>S14000051</td>\n",
       "      <td>S12000027</td>\n",
       "      <td>S99999999</td>\n",
       "      <td>8</td>\n",
       "      <td>929.745694</td>\n",
       "      <td>-106.661593</td>\n",
       "    </tr>\n",
       "    <tr>\n",
       "      <th>1756484</th>\n",
       "      <td>ZE3 9JW</td>\n",
       "      <td>59873651</td>\n",
       "      <td>-1305697</td>\n",
       "      <td>S92000003</td>\n",
       "      <td>S99999999</td>\n",
       "      <td>S99999999</td>\n",
       "      <td>S14000051</td>\n",
       "      <td>S12000027</td>\n",
       "      <td>S99999999</td>\n",
       "      <td>8</td>\n",
       "      <td>927.986868</td>\n",
       "      <td>-106.529768</td>\n",
       "    </tr>\n",
       "    <tr>\n",
       "      <th>1756485</th>\n",
       "      <td>ZE3 9JX</td>\n",
       "      <td>59875286</td>\n",
       "      <td>-1307502</td>\n",
       "      <td>S92000003</td>\n",
       "      <td>S99999999</td>\n",
       "      <td>S99999999</td>\n",
       "      <td>S14000051</td>\n",
       "      <td>S12000027</td>\n",
       "      <td>S99999999</td>\n",
       "      <td>8</td>\n",
       "      <td>928.165330</td>\n",
       "      <td>-106.635818</td>\n",
       "    </tr>\n",
       "    <tr>\n",
       "      <th>1756486</th>\n",
       "      <td>ZE3 9JY</td>\n",
       "      <td>59891572</td>\n",
       "      <td>-1313847</td>\n",
       "      <td>S92000003</td>\n",
       "      <td>S99999999</td>\n",
       "      <td>S99999999</td>\n",
       "      <td>S14000051</td>\n",
       "      <td>S12000027</td>\n",
       "      <td>S99999999</td>\n",
       "      <td>8</td>\n",
       "      <td>929.960450</td>\n",
       "      <td>-107.039740</td>\n",
       "    </tr>\n",
       "    <tr>\n",
       "      <th>1756487</th>\n",
       "      <td>ZE3 9JZ</td>\n",
       "      <td>59892392</td>\n",
       "      <td>-1310899</td>\n",
       "      <td>S92000003</td>\n",
       "      <td>S99999999</td>\n",
       "      <td>S99999999</td>\n",
       "      <td>S14000051</td>\n",
       "      <td>S12000027</td>\n",
       "      <td>S99999999</td>\n",
       "      <td>8</td>\n",
       "      <td>930.055730</td>\n",
       "      <td>-106.876984</td>\n",
       "    </tr>\n",
       "  </tbody>\n",
       "</table>\n",
       "<p>1756488 rows × 12 columns</p>\n",
       "</div>"
      ],
      "text/plain": [
       "        postcode       lat     long    country     region     county  \\\n",
       "0        AB101AB  57149606 -2096915  S92000003  S99999999  S99999999   \n",
       "1        AB101AF  57148707 -2097806  S92000003  S99999999  S99999999   \n",
       "2        AB101AG  57149051 -2097004  S92000003  S99999999  S99999999   \n",
       "3        AB101AH  57148080 -2094663  S92000003  S99999999  S99999999   \n",
       "4        AB101AL  57150058 -2095916  S92000003  S99999999  S99999999   \n",
       "...          ...       ...      ...        ...        ...        ...   \n",
       "1756483  ZE3 9JU  59889544 -1307206  S92000003  S99999999  S99999999   \n",
       "1756484  ZE3 9JW  59873651 -1305697  S92000003  S99999999  S99999999   \n",
       "1756485  ZE3 9JX  59875286 -1307502  S92000003  S99999999  S99999999   \n",
       "1756486  ZE3 9JY  59891572 -1313847  S92000003  S99999999  S99999999   \n",
       "1756487  ZE3 9JZ  59892392 -1310899  S92000003  S99999999  S99999999   \n",
       "\n",
       "              pcon       laua      npark ru11ind       north        east  \n",
       "0        S14000001  S12000033  S99999999       1  624.424060 -146.161338  \n",
       "1        S14000001  S12000033  S99999999       1  624.323171 -146.213555  \n",
       "2        S14000001  S12000033  S99999999       1  624.362211 -146.165744  \n",
       "3        S14000001  S12000033  S99999999       1  624.256361 -146.022750  \n",
       "4        S14000001  S12000033  S99999999       1  624.475306 -146.101827  \n",
       "...            ...        ...        ...     ...         ...         ...  \n",
       "1756483  S14000051  S12000027  S99999999       8  929.745694 -106.661593  \n",
       "1756484  S14000051  S12000027  S99999999       8  927.986868 -106.529768  \n",
       "1756485  S14000051  S12000027  S99999999       8  928.165330 -106.635818  \n",
       "1756486  S14000051  S12000027  S99999999       8  929.960450 -107.039740  \n",
       "1756487  S14000051  S12000027  S99999999       8  930.055730 -106.876984  \n",
       "\n",
       "[1756488 rows x 12 columns]"
      ]
     },
     "execution_count": 3,
     "metadata": {},
     "output_type": "execute_result"
    }
   ],
   "source": [
    "nspl"
   ]
  },
  {
   "cell_type": "code",
   "execution_count": 7,
   "id": "31497fae",
   "metadata": {
    "hidden": true
   },
   "outputs": [],
   "source": [
    "'''Country - region pairs'''\n",
    "\n",
    "countries = pd.unique(nspl.country)\n",
    "regions   = pd.unique(nspl.region)\n",
    "counties  = pd.unique(nspl.county)\n",
    "constits  = pd.unique(nspl.pcon)\n",
    "lauths    = pd.unique(nspl.laua)"
   ]
  },
  {
   "cell_type": "code",
   "execution_count": 9,
   "id": "10484115",
   "metadata": {
    "hidden": true
   },
   "outputs": [
    {
     "name": "stdout",
     "output_type": "stream",
     "text": [
      "Complete - 0 of 12 belong to multiple areas\n"
     ]
    }
   ],
   "source": [
    "multi = 0\n",
    "for r in regions:\n",
    "    k = len(pd.unique(nspl[nspl.region==r].country))\n",
    "    if k > 1:\n",
    "        multi += 1\n",
    "        print(f'{r} :\\t{k}')\n",
    "print(f'Complete - {multi} of {len(regions)} belong to multiple areas')"
   ]
  },
  {
   "cell_type": "code",
   "execution_count": 10,
   "id": "5ff1ab4a",
   "metadata": {
    "hidden": true
   },
   "outputs": [
    {
     "name": "stdout",
     "output_type": "stream",
     "text": [
      "E99999999 :\t8\n",
      "Complete - 1 of 37 belong to multiple areas\n"
     ]
    }
   ],
   "source": [
    "multi = 0\n",
    "for c in counties:\n",
    "    k = len(pd.unique(nspl[nspl.county==c].region))\n",
    "    if k > 1:\n",
    "        multi += 1\n",
    "        print(f'{c} :\\t{k}')\n",
    "print(f'Complete - {multi} of {len(counties)} belong to multiple areas')"
   ]
  },
  {
   "cell_type": "code",
   "execution_count": 11,
   "id": "bb6b8ac7",
   "metadata": {
    "collapsed": true,
    "hidden": true
   },
   "outputs": [
    {
     "name": "stdout",
     "output_type": "stream",
     "text": [
      "E14000902 :\t2\n",
      "E14000597 :\t2\n",
      "E14000788 :\t2\n",
      "E14000933 :\t2\n",
      "E14000626 :\t2\n",
      "E14000814 :\t2\n",
      "E14000572 :\t2\n",
      "E14000909 :\t2\n",
      "E14000727 :\t2\n",
      "E14000855 :\t2\n",
      "E14000950 :\t2\n",
      "E14001001 :\t2\n",
      "E14000901 :\t2\n",
      "E14000899 :\t2\n",
      "E14000973 :\t2\n",
      "Complete - 15 of 650 belong to multiple areas\n"
     ]
    }
   ],
   "source": [
    "multi = 0\n",
    "for c in constits:\n",
    "    k = len(pd.unique(nspl[nspl.pcon==c].county))\n",
    "    if k > 1:\n",
    "        multi += 1\n",
    "        print(f'{c} :\\t{k}')\n",
    "print(f'Complete - {multi} of {len(constits)} belong to multiple areas')"
   ]
  },
  {
   "cell_type": "code",
   "execution_count": 13,
   "id": "3565c363",
   "metadata": {
    "collapsed": true,
    "hidden": true
   },
   "outputs": [
    {
     "name": "stdout",
     "output_type": "stream",
     "text": [
      "Checking area 0\n",
      "S12000033 :\t3\n",
      "S12000034 :\t3\n",
      "S12000041 :\t3\n",
      "S12000017 :\t3\n",
      "E07000240 :\t2\n",
      "E07000241 :\t2\n",
      "E07000096 :\t2\n",
      "E06000056 :\t4\n",
      "E07000099 :\t3\n",
      "E07000242 :\t3\n",
      "E08000025 :\t10\n",
      "E08000029 :\t2\n",
      "E08000028 :\t4\n",
      "E08000030 :\t3\n",
      "E07000218 :\t2\n",
      "E07000221 :\t2\n",
      "E07000238 :\t3\n",
      "E08000027 :\t5\n",
      "E07000194 :\t2\n",
      "E07000222 :\t2\n",
      "E06000022 :\t2\n",
      "E06000025 :\t3\n",
      "E07000189 :\t2\n",
      "E07000187 :\t2\n",
      "E06000054 :\t5\n",
      "E07000188 :\t2\n",
      "E06000059 :\t5\n",
      "E06000008 :\t2\n",
      "E07000125 :\t2\n",
      "E07000118 :\t2\n",
      "E07000126 :\t2\n",
      "E08000032 :\t5\n",
      "E08000035 :\t8\n",
      "E08000034 :\t4\n",
      "E08000033 :\t2\n",
      "E07000165 :\t3\n",
      "E06000058 :\t5\n",
      "E07000091 :\t2\n",
      "E08000002 :\t2\n",
      "Checking area 50\n",
      "E08000001 :\t3\n",
      "E08000005 :\t2\n",
      "E06000043 :\t3\n",
      "E07000228 :\t3\n",
      "E07000063 :\t2\n",
      "E07000229 :\t2\n",
      "E07000224 :\t3\n",
      "E07000225 :\t2\n",
      "E07000227 :\t2\n",
      "E07000065 :\t4\n",
      "E07000064 :\t2\n",
      "E09000006 :\t4\n",
      "E09000023 :\t3\n",
      "E09000008 :\t3\n",
      "E07000111 :\t3\n",
      "E09000011 :\t3\n",
      "E06000023 :\t4\n",
      "E06000024 :\t2\n",
      "N09000003 :\t6\n",
      "N09000001 :\t3\n",
      "N09000007 :\t6\n",
      "N09000011 :\t2\n",
      "N09000010 :\t3\n",
      "N09000002 :\t5\n",
      "N09000008 :\t2\n",
      "N09000009 :\t2\n",
      "N09000004 :\t3\n",
      "N09000005 :\t3\n",
      "N09000006 :\t2\n",
      "E07000028 :\t2\n",
      "E07000026 :\t3\n",
      "E06000057 :\t4\n",
      "E07000008 :\t2\n",
      "E07000012 :\t2\n",
      "E07000009 :\t2\n",
      "E07000146 :\t2\n",
      "E07000245 :\t3\n",
      "E07000067 :\t2\n",
      "W06000015 :\t4\n",
      "W06000014 :\t2\n",
      "W06000018 :\t3\n",
      "W06000016 :\t4\n",
      "W06000022 :\t2\n",
      "Checking area 100\n",
      "W06000013 :\t2\n",
      "W06000012 :\t2\n",
      "W06000023 :\t2\n",
      "E06000050 :\t5\n",
      "W06000005 :\t2\n"
     ]
    },
    {
     "ename": "KeyboardInterrupt",
     "evalue": "",
     "output_type": "error",
     "traceback": [
      "\u001b[1;31m---------------------------------------------------------------------------\u001b[0m",
      "\u001b[1;31mKeyboardInterrupt\u001b[0m                         Traceback (most recent call last)",
      "\u001b[1;32m~\\AppData\\Local\\Temp\\ipykernel_7248\\3986627114.py\u001b[0m in \u001b[0;36m<module>\u001b[1;34m\u001b[0m\n\u001b[0;32m      3\u001b[0m     \u001b[1;32mif\u001b[0m \u001b[0mi\u001b[0m\u001b[1;33m%\u001b[0m\u001b[1;36m50\u001b[0m \u001b[1;33m==\u001b[0m \u001b[1;36m0\u001b[0m\u001b[1;33m:\u001b[0m\u001b[1;33m\u001b[0m\u001b[1;33m\u001b[0m\u001b[0m\n\u001b[0;32m      4\u001b[0m         \u001b[0mprint\u001b[0m\u001b[1;33m(\u001b[0m\u001b[1;34mf'Checking area {i}'\u001b[0m\u001b[1;33m)\u001b[0m\u001b[1;33m\u001b[0m\u001b[1;33m\u001b[0m\u001b[0m\n\u001b[1;32m----> 5\u001b[1;33m     \u001b[0mk\u001b[0m \u001b[1;33m=\u001b[0m \u001b[0mlen\u001b[0m\u001b[1;33m(\u001b[0m\u001b[0mpd\u001b[0m\u001b[1;33m.\u001b[0m\u001b[0munique\u001b[0m\u001b[1;33m(\u001b[0m\u001b[0mnspl\u001b[0m\u001b[1;33m[\u001b[0m\u001b[0mnspl\u001b[0m\u001b[1;33m.\u001b[0m\u001b[0mlaua\u001b[0m\u001b[1;33m==\u001b[0m\u001b[0mc\u001b[0m\u001b[1;33m]\u001b[0m\u001b[1;33m.\u001b[0m\u001b[0mpcon\u001b[0m\u001b[1;33m)\u001b[0m\u001b[1;33m)\u001b[0m\u001b[1;33m\u001b[0m\u001b[1;33m\u001b[0m\u001b[0m\n\u001b[0m\u001b[0;32m      6\u001b[0m     \u001b[1;32mif\u001b[0m \u001b[0mk\u001b[0m \u001b[1;33m>\u001b[0m \u001b[1;36m1\u001b[0m\u001b[1;33m:\u001b[0m\u001b[1;33m\u001b[0m\u001b[1;33m\u001b[0m\u001b[0m\n\u001b[0;32m      7\u001b[0m         \u001b[0mmulti\u001b[0m \u001b[1;33m+=\u001b[0m \u001b[1;36m1\u001b[0m\u001b[1;33m\u001b[0m\u001b[1;33m\u001b[0m\u001b[0m\n",
      "\u001b[1;32m~\\anaconda3\\lib\\site-packages\\pandas\\core\\ops\\common.py\u001b[0m in \u001b[0;36mnew_method\u001b[1;34m(self, other)\u001b[0m\n\u001b[0;32m     68\u001b[0m         \u001b[0mother\u001b[0m \u001b[1;33m=\u001b[0m \u001b[0mitem_from_zerodim\u001b[0m\u001b[1;33m(\u001b[0m\u001b[0mother\u001b[0m\u001b[1;33m)\u001b[0m\u001b[1;33m\u001b[0m\u001b[1;33m\u001b[0m\u001b[0m\n\u001b[0;32m     69\u001b[0m \u001b[1;33m\u001b[0m\u001b[0m\n\u001b[1;32m---> 70\u001b[1;33m         \u001b[1;32mreturn\u001b[0m \u001b[0mmethod\u001b[0m\u001b[1;33m(\u001b[0m\u001b[0mself\u001b[0m\u001b[1;33m,\u001b[0m \u001b[0mother\u001b[0m\u001b[1;33m)\u001b[0m\u001b[1;33m\u001b[0m\u001b[1;33m\u001b[0m\u001b[0m\n\u001b[0m\u001b[0;32m     71\u001b[0m \u001b[1;33m\u001b[0m\u001b[0m\n\u001b[0;32m     72\u001b[0m     \u001b[1;32mreturn\u001b[0m \u001b[0mnew_method\u001b[0m\u001b[1;33m\u001b[0m\u001b[1;33m\u001b[0m\u001b[0m\n",
      "\u001b[1;32m~\\anaconda3\\lib\\site-packages\\pandas\\core\\arraylike.py\u001b[0m in \u001b[0;36m__eq__\u001b[1;34m(self, other)\u001b[0m\n\u001b[0;32m     38\u001b[0m     \u001b[1;33m@\u001b[0m\u001b[0munpack_zerodim_and_defer\u001b[0m\u001b[1;33m(\u001b[0m\u001b[1;34m\"__eq__\"\u001b[0m\u001b[1;33m)\u001b[0m\u001b[1;33m\u001b[0m\u001b[1;33m\u001b[0m\u001b[0m\n\u001b[0;32m     39\u001b[0m     \u001b[1;32mdef\u001b[0m \u001b[0m__eq__\u001b[0m\u001b[1;33m(\u001b[0m\u001b[0mself\u001b[0m\u001b[1;33m,\u001b[0m \u001b[0mother\u001b[0m\u001b[1;33m)\u001b[0m\u001b[1;33m:\u001b[0m\u001b[1;33m\u001b[0m\u001b[1;33m\u001b[0m\u001b[0m\n\u001b[1;32m---> 40\u001b[1;33m         \u001b[1;32mreturn\u001b[0m \u001b[0mself\u001b[0m\u001b[1;33m.\u001b[0m\u001b[0m_cmp_method\u001b[0m\u001b[1;33m(\u001b[0m\u001b[0mother\u001b[0m\u001b[1;33m,\u001b[0m \u001b[0moperator\u001b[0m\u001b[1;33m.\u001b[0m\u001b[0meq\u001b[0m\u001b[1;33m)\u001b[0m\u001b[1;33m\u001b[0m\u001b[1;33m\u001b[0m\u001b[0m\n\u001b[0m\u001b[0;32m     41\u001b[0m \u001b[1;33m\u001b[0m\u001b[0m\n\u001b[0;32m     42\u001b[0m     \u001b[1;33m@\u001b[0m\u001b[0munpack_zerodim_and_defer\u001b[0m\u001b[1;33m(\u001b[0m\u001b[1;34m\"__ne__\"\u001b[0m\u001b[1;33m)\u001b[0m\u001b[1;33m\u001b[0m\u001b[1;33m\u001b[0m\u001b[0m\n",
      "\u001b[1;32m~\\anaconda3\\lib\\site-packages\\pandas\\core\\series.py\u001b[0m in \u001b[0;36m_cmp_method\u001b[1;34m(self, other, op)\u001b[0m\n\u001b[0;32m   5621\u001b[0m \u001b[1;33m\u001b[0m\u001b[0m\n\u001b[0;32m   5622\u001b[0m         \u001b[1;32mwith\u001b[0m \u001b[0mnp\u001b[0m\u001b[1;33m.\u001b[0m\u001b[0merrstate\u001b[0m\u001b[1;33m(\u001b[0m\u001b[0mall\u001b[0m\u001b[1;33m=\u001b[0m\u001b[1;34m\"ignore\"\u001b[0m\u001b[1;33m)\u001b[0m\u001b[1;33m:\u001b[0m\u001b[1;33m\u001b[0m\u001b[1;33m\u001b[0m\u001b[0m\n\u001b[1;32m-> 5623\u001b[1;33m             \u001b[0mres_values\u001b[0m \u001b[1;33m=\u001b[0m \u001b[0mops\u001b[0m\u001b[1;33m.\u001b[0m\u001b[0mcomparison_op\u001b[0m\u001b[1;33m(\u001b[0m\u001b[0mlvalues\u001b[0m\u001b[1;33m,\u001b[0m \u001b[0mrvalues\u001b[0m\u001b[1;33m,\u001b[0m \u001b[0mop\u001b[0m\u001b[1;33m)\u001b[0m\u001b[1;33m\u001b[0m\u001b[1;33m\u001b[0m\u001b[0m\n\u001b[0m\u001b[0;32m   5624\u001b[0m \u001b[1;33m\u001b[0m\u001b[0m\n\u001b[0;32m   5625\u001b[0m         \u001b[1;32mreturn\u001b[0m \u001b[0mself\u001b[0m\u001b[1;33m.\u001b[0m\u001b[0m_construct_result\u001b[0m\u001b[1;33m(\u001b[0m\u001b[0mres_values\u001b[0m\u001b[1;33m,\u001b[0m \u001b[0mname\u001b[0m\u001b[1;33m=\u001b[0m\u001b[0mres_name\u001b[0m\u001b[1;33m)\u001b[0m\u001b[1;33m\u001b[0m\u001b[1;33m\u001b[0m\u001b[0m\n",
      "\u001b[1;32m~\\anaconda3\\lib\\site-packages\\pandas\\core\\ops\\array_ops.py\u001b[0m in \u001b[0;36mcomparison_op\u001b[1;34m(left, right, op)\u001b[0m\n\u001b[0;32m    281\u001b[0m \u001b[1;33m\u001b[0m\u001b[0m\n\u001b[0;32m    282\u001b[0m     \u001b[1;32melif\u001b[0m \u001b[0mis_object_dtype\u001b[0m\u001b[1;33m(\u001b[0m\u001b[0mlvalues\u001b[0m\u001b[1;33m.\u001b[0m\u001b[0mdtype\u001b[0m\u001b[1;33m)\u001b[0m \u001b[1;32mor\u001b[0m \u001b[0misinstance\u001b[0m\u001b[1;33m(\u001b[0m\u001b[0mrvalues\u001b[0m\u001b[1;33m,\u001b[0m \u001b[0mstr\u001b[0m\u001b[1;33m)\u001b[0m\u001b[1;33m:\u001b[0m\u001b[1;33m\u001b[0m\u001b[1;33m\u001b[0m\u001b[0m\n\u001b[1;32m--> 283\u001b[1;33m         \u001b[0mres_values\u001b[0m \u001b[1;33m=\u001b[0m \u001b[0mcomp_method_OBJECT_ARRAY\u001b[0m\u001b[1;33m(\u001b[0m\u001b[0mop\u001b[0m\u001b[1;33m,\u001b[0m \u001b[0mlvalues\u001b[0m\u001b[1;33m,\u001b[0m \u001b[0mrvalues\u001b[0m\u001b[1;33m)\u001b[0m\u001b[1;33m\u001b[0m\u001b[1;33m\u001b[0m\u001b[0m\n\u001b[0m\u001b[0;32m    284\u001b[0m \u001b[1;33m\u001b[0m\u001b[0m\n\u001b[0;32m    285\u001b[0m     \u001b[1;32melse\u001b[0m\u001b[1;33m:\u001b[0m\u001b[1;33m\u001b[0m\u001b[1;33m\u001b[0m\u001b[0m\n",
      "\u001b[1;32m~\\anaconda3\\lib\\site-packages\\pandas\\core\\ops\\array_ops.py\u001b[0m in \u001b[0;36mcomp_method_OBJECT_ARRAY\u001b[1;34m(op, x, y)\u001b[0m\n\u001b[0;32m     72\u001b[0m     \u001b[1;32melse\u001b[0m\u001b[1;33m:\u001b[0m\u001b[1;33m\u001b[0m\u001b[1;33m\u001b[0m\u001b[0m\n\u001b[0;32m     73\u001b[0m         \u001b[0mresult\u001b[0m \u001b[1;33m=\u001b[0m \u001b[0mlibops\u001b[0m\u001b[1;33m.\u001b[0m\u001b[0mscalar_compare\u001b[0m\u001b[1;33m(\u001b[0m\u001b[0mx\u001b[0m\u001b[1;33m.\u001b[0m\u001b[0mravel\u001b[0m\u001b[1;33m(\u001b[0m\u001b[1;33m)\u001b[0m\u001b[1;33m,\u001b[0m \u001b[0my\u001b[0m\u001b[1;33m,\u001b[0m \u001b[0mop\u001b[0m\u001b[1;33m)\u001b[0m\u001b[1;33m\u001b[0m\u001b[1;33m\u001b[0m\u001b[0m\n\u001b[1;32m---> 74\u001b[1;33m     \u001b[1;32mreturn\u001b[0m \u001b[0mresult\u001b[0m\u001b[1;33m.\u001b[0m\u001b[0mreshape\u001b[0m\u001b[1;33m(\u001b[0m\u001b[0mx\u001b[0m\u001b[1;33m.\u001b[0m\u001b[0mshape\u001b[0m\u001b[1;33m)\u001b[0m\u001b[1;33m\u001b[0m\u001b[1;33m\u001b[0m\u001b[0m\n\u001b[0m\u001b[0;32m     75\u001b[0m \u001b[1;33m\u001b[0m\u001b[0m\n\u001b[0;32m     76\u001b[0m \u001b[1;33m\u001b[0m\u001b[0m\n",
      "\u001b[1;31mKeyboardInterrupt\u001b[0m: "
     ]
    }
   ],
   "source": [
    "multi = 0\n",
    "for i, c in enumerate(lauths):\n",
    "    if i%50 == 0:\n",
    "        print(f'Checking area {i}')\n",
    "    k = len(pd.unique(nspl[nspl.laua==c].county))\n",
    "    if k > 1:\n",
    "        multi += 1\n",
    "        print(f'{c} :\\t{k}')\n",
    "print(f'Complete - {multi} of {len(lauths)} belong to multiple areas')"
   ]
  },
  {
   "cell_type": "code",
   "execution_count": 14,
   "id": "9040065f",
   "metadata": {
    "collapsed": true,
    "hidden": true
   },
   "outputs": [
    {
     "name": "stdout",
     "output_type": "stream",
     "text": [
      "Checking area 0\n",
      "S14000037 :\t2\n",
      "E14000960 :\t2\n",
      "E14000749 :\t2\n",
      "E14000801 :\t2\n",
      "E14000845 :\t2\n",
      "E14000968 :\t3\n",
      "E14000854 :\t2\n",
      "E14000868 :\t2\n",
      "E14000892 :\t2\n",
      "E14000722 :\t2\n",
      "E14000986 :\t2\n",
      "E14000767 :\t3\n",
      "E14000932 :\t2\n",
      "Checking area 50\n",
      "E14001026 :\t2\n",
      "E14000595 :\t2\n",
      "E14000758 :\t2\n",
      "E14000902 :\t2\n",
      "E14000894 :\t2\n",
      "E14000928 :\t2\n",
      "E14000826 :\t2\n"
     ]
    },
    {
     "ename": "KeyboardInterrupt",
     "evalue": "",
     "output_type": "error",
     "traceback": [
      "\u001b[1;31m---------------------------------------------------------------------------\u001b[0m",
      "\u001b[1;31mKeyboardInterrupt\u001b[0m                         Traceback (most recent call last)",
      "\u001b[1;32m~\\AppData\\Local\\Temp\\ipykernel_7248\\3999241147.py\u001b[0m in \u001b[0;36m<module>\u001b[1;34m\u001b[0m\n\u001b[0;32m      3\u001b[0m     \u001b[1;32mif\u001b[0m \u001b[0mi\u001b[0m\u001b[1;33m%\u001b[0m\u001b[1;36m50\u001b[0m \u001b[1;33m==\u001b[0m \u001b[1;36m0\u001b[0m\u001b[1;33m:\u001b[0m\u001b[1;33m\u001b[0m\u001b[1;33m\u001b[0m\u001b[0m\n\u001b[0;32m      4\u001b[0m         \u001b[0mprint\u001b[0m\u001b[1;33m(\u001b[0m\u001b[1;34mf'Checking area {i}'\u001b[0m\u001b[1;33m)\u001b[0m\u001b[1;33m\u001b[0m\u001b[1;33m\u001b[0m\u001b[0m\n\u001b[1;32m----> 5\u001b[1;33m     \u001b[0mk\u001b[0m \u001b[1;33m=\u001b[0m \u001b[0mlen\u001b[0m\u001b[1;33m(\u001b[0m\u001b[0mpd\u001b[0m\u001b[1;33m.\u001b[0m\u001b[0munique\u001b[0m\u001b[1;33m(\u001b[0m\u001b[0mnspl\u001b[0m\u001b[1;33m[\u001b[0m\u001b[0mnspl\u001b[0m\u001b[1;33m.\u001b[0m\u001b[0mpcon\u001b[0m\u001b[1;33m==\u001b[0m\u001b[0mc\u001b[0m\u001b[1;33m]\u001b[0m\u001b[1;33m.\u001b[0m\u001b[0mlaua\u001b[0m\u001b[1;33m)\u001b[0m\u001b[1;33m)\u001b[0m\u001b[1;33m\u001b[0m\u001b[1;33m\u001b[0m\u001b[0m\n\u001b[0m\u001b[0;32m      6\u001b[0m     \u001b[1;32mif\u001b[0m \u001b[0mk\u001b[0m \u001b[1;33m>\u001b[0m \u001b[1;36m1\u001b[0m\u001b[1;33m:\u001b[0m\u001b[1;33m\u001b[0m\u001b[1;33m\u001b[0m\u001b[0m\n\u001b[0;32m      7\u001b[0m         \u001b[0mmulti\u001b[0m \u001b[1;33m+=\u001b[0m \u001b[1;36m1\u001b[0m\u001b[1;33m\u001b[0m\u001b[1;33m\u001b[0m\u001b[0m\n",
      "\u001b[1;32m~\\anaconda3\\lib\\site-packages\\pandas\\core\\ops\\common.py\u001b[0m in \u001b[0;36mnew_method\u001b[1;34m(self, other)\u001b[0m\n\u001b[0;32m     68\u001b[0m         \u001b[0mother\u001b[0m \u001b[1;33m=\u001b[0m \u001b[0mitem_from_zerodim\u001b[0m\u001b[1;33m(\u001b[0m\u001b[0mother\u001b[0m\u001b[1;33m)\u001b[0m\u001b[1;33m\u001b[0m\u001b[1;33m\u001b[0m\u001b[0m\n\u001b[0;32m     69\u001b[0m \u001b[1;33m\u001b[0m\u001b[0m\n\u001b[1;32m---> 70\u001b[1;33m         \u001b[1;32mreturn\u001b[0m \u001b[0mmethod\u001b[0m\u001b[1;33m(\u001b[0m\u001b[0mself\u001b[0m\u001b[1;33m,\u001b[0m \u001b[0mother\u001b[0m\u001b[1;33m)\u001b[0m\u001b[1;33m\u001b[0m\u001b[1;33m\u001b[0m\u001b[0m\n\u001b[0m\u001b[0;32m     71\u001b[0m \u001b[1;33m\u001b[0m\u001b[0m\n\u001b[0;32m     72\u001b[0m     \u001b[1;32mreturn\u001b[0m \u001b[0mnew_method\u001b[0m\u001b[1;33m\u001b[0m\u001b[1;33m\u001b[0m\u001b[0m\n",
      "\u001b[1;32m~\\anaconda3\\lib\\site-packages\\pandas\\core\\arraylike.py\u001b[0m in \u001b[0;36m__eq__\u001b[1;34m(self, other)\u001b[0m\n\u001b[0;32m     38\u001b[0m     \u001b[1;33m@\u001b[0m\u001b[0munpack_zerodim_and_defer\u001b[0m\u001b[1;33m(\u001b[0m\u001b[1;34m\"__eq__\"\u001b[0m\u001b[1;33m)\u001b[0m\u001b[1;33m\u001b[0m\u001b[1;33m\u001b[0m\u001b[0m\n\u001b[0;32m     39\u001b[0m     \u001b[1;32mdef\u001b[0m \u001b[0m__eq__\u001b[0m\u001b[1;33m(\u001b[0m\u001b[0mself\u001b[0m\u001b[1;33m,\u001b[0m \u001b[0mother\u001b[0m\u001b[1;33m)\u001b[0m\u001b[1;33m:\u001b[0m\u001b[1;33m\u001b[0m\u001b[1;33m\u001b[0m\u001b[0m\n\u001b[1;32m---> 40\u001b[1;33m         \u001b[1;32mreturn\u001b[0m \u001b[0mself\u001b[0m\u001b[1;33m.\u001b[0m\u001b[0m_cmp_method\u001b[0m\u001b[1;33m(\u001b[0m\u001b[0mother\u001b[0m\u001b[1;33m,\u001b[0m \u001b[0moperator\u001b[0m\u001b[1;33m.\u001b[0m\u001b[0meq\u001b[0m\u001b[1;33m)\u001b[0m\u001b[1;33m\u001b[0m\u001b[1;33m\u001b[0m\u001b[0m\n\u001b[0m\u001b[0;32m     41\u001b[0m \u001b[1;33m\u001b[0m\u001b[0m\n\u001b[0;32m     42\u001b[0m     \u001b[1;33m@\u001b[0m\u001b[0munpack_zerodim_and_defer\u001b[0m\u001b[1;33m(\u001b[0m\u001b[1;34m\"__ne__\"\u001b[0m\u001b[1;33m)\u001b[0m\u001b[1;33m\u001b[0m\u001b[1;33m\u001b[0m\u001b[0m\n",
      "\u001b[1;32m~\\anaconda3\\lib\\site-packages\\pandas\\core\\series.py\u001b[0m in \u001b[0;36m_cmp_method\u001b[1;34m(self, other, op)\u001b[0m\n\u001b[0;32m   5621\u001b[0m \u001b[1;33m\u001b[0m\u001b[0m\n\u001b[0;32m   5622\u001b[0m         \u001b[1;32mwith\u001b[0m \u001b[0mnp\u001b[0m\u001b[1;33m.\u001b[0m\u001b[0merrstate\u001b[0m\u001b[1;33m(\u001b[0m\u001b[0mall\u001b[0m\u001b[1;33m=\u001b[0m\u001b[1;34m\"ignore\"\u001b[0m\u001b[1;33m)\u001b[0m\u001b[1;33m:\u001b[0m\u001b[1;33m\u001b[0m\u001b[1;33m\u001b[0m\u001b[0m\n\u001b[1;32m-> 5623\u001b[1;33m             \u001b[0mres_values\u001b[0m \u001b[1;33m=\u001b[0m \u001b[0mops\u001b[0m\u001b[1;33m.\u001b[0m\u001b[0mcomparison_op\u001b[0m\u001b[1;33m(\u001b[0m\u001b[0mlvalues\u001b[0m\u001b[1;33m,\u001b[0m \u001b[0mrvalues\u001b[0m\u001b[1;33m,\u001b[0m \u001b[0mop\u001b[0m\u001b[1;33m)\u001b[0m\u001b[1;33m\u001b[0m\u001b[1;33m\u001b[0m\u001b[0m\n\u001b[0m\u001b[0;32m   5624\u001b[0m \u001b[1;33m\u001b[0m\u001b[0m\n\u001b[0;32m   5625\u001b[0m         \u001b[1;32mreturn\u001b[0m \u001b[0mself\u001b[0m\u001b[1;33m.\u001b[0m\u001b[0m_construct_result\u001b[0m\u001b[1;33m(\u001b[0m\u001b[0mres_values\u001b[0m\u001b[1;33m,\u001b[0m \u001b[0mname\u001b[0m\u001b[1;33m=\u001b[0m\u001b[0mres_name\u001b[0m\u001b[1;33m)\u001b[0m\u001b[1;33m\u001b[0m\u001b[1;33m\u001b[0m\u001b[0m\n",
      "\u001b[1;32m~\\anaconda3\\lib\\site-packages\\pandas\\core\\ops\\array_ops.py\u001b[0m in \u001b[0;36mcomparison_op\u001b[1;34m(left, right, op)\u001b[0m\n\u001b[0;32m    281\u001b[0m \u001b[1;33m\u001b[0m\u001b[0m\n\u001b[0;32m    282\u001b[0m     \u001b[1;32melif\u001b[0m \u001b[0mis_object_dtype\u001b[0m\u001b[1;33m(\u001b[0m\u001b[0mlvalues\u001b[0m\u001b[1;33m.\u001b[0m\u001b[0mdtype\u001b[0m\u001b[1;33m)\u001b[0m \u001b[1;32mor\u001b[0m \u001b[0misinstance\u001b[0m\u001b[1;33m(\u001b[0m\u001b[0mrvalues\u001b[0m\u001b[1;33m,\u001b[0m \u001b[0mstr\u001b[0m\u001b[1;33m)\u001b[0m\u001b[1;33m:\u001b[0m\u001b[1;33m\u001b[0m\u001b[1;33m\u001b[0m\u001b[0m\n\u001b[1;32m--> 283\u001b[1;33m         \u001b[0mres_values\u001b[0m \u001b[1;33m=\u001b[0m \u001b[0mcomp_method_OBJECT_ARRAY\u001b[0m\u001b[1;33m(\u001b[0m\u001b[0mop\u001b[0m\u001b[1;33m,\u001b[0m \u001b[0mlvalues\u001b[0m\u001b[1;33m,\u001b[0m \u001b[0mrvalues\u001b[0m\u001b[1;33m)\u001b[0m\u001b[1;33m\u001b[0m\u001b[1;33m\u001b[0m\u001b[0m\n\u001b[0m\u001b[0;32m    284\u001b[0m \u001b[1;33m\u001b[0m\u001b[0m\n\u001b[0;32m    285\u001b[0m     \u001b[1;32melse\u001b[0m\u001b[1;33m:\u001b[0m\u001b[1;33m\u001b[0m\u001b[1;33m\u001b[0m\u001b[0m\n",
      "\u001b[1;32m~\\anaconda3\\lib\\site-packages\\pandas\\core\\ops\\array_ops.py\u001b[0m in \u001b[0;36mcomp_method_OBJECT_ARRAY\u001b[1;34m(op, x, y)\u001b[0m\n\u001b[0;32m     72\u001b[0m     \u001b[1;32melse\u001b[0m\u001b[1;33m:\u001b[0m\u001b[1;33m\u001b[0m\u001b[1;33m\u001b[0m\u001b[0m\n\u001b[0;32m     73\u001b[0m         \u001b[0mresult\u001b[0m \u001b[1;33m=\u001b[0m \u001b[0mlibops\u001b[0m\u001b[1;33m.\u001b[0m\u001b[0mscalar_compare\u001b[0m\u001b[1;33m(\u001b[0m\u001b[0mx\u001b[0m\u001b[1;33m.\u001b[0m\u001b[0mravel\u001b[0m\u001b[1;33m(\u001b[0m\u001b[1;33m)\u001b[0m\u001b[1;33m,\u001b[0m \u001b[0my\u001b[0m\u001b[1;33m,\u001b[0m \u001b[0mop\u001b[0m\u001b[1;33m)\u001b[0m\u001b[1;33m\u001b[0m\u001b[1;33m\u001b[0m\u001b[0m\n\u001b[1;32m---> 74\u001b[1;33m     \u001b[1;32mreturn\u001b[0m \u001b[0mresult\u001b[0m\u001b[1;33m.\u001b[0m\u001b[0mreshape\u001b[0m\u001b[1;33m(\u001b[0m\u001b[0mx\u001b[0m\u001b[1;33m.\u001b[0m\u001b[0mshape\u001b[0m\u001b[1;33m)\u001b[0m\u001b[1;33m\u001b[0m\u001b[1;33m\u001b[0m\u001b[0m\n\u001b[0m\u001b[0;32m     75\u001b[0m \u001b[1;33m\u001b[0m\u001b[0m\n\u001b[0;32m     76\u001b[0m \u001b[1;33m\u001b[0m\u001b[0m\n",
      "\u001b[1;31mKeyboardInterrupt\u001b[0m: "
     ]
    }
   ],
   "source": [
    "multi = 0\n",
    "for i, c in enumerate(constits):\n",
    "    if i%50 == 0:\n",
    "        print(f'Checking area {i}')\n",
    "    k = len(pd.unique(nspl[nspl.pcon==c].laua))\n",
    "    if k > 1:\n",
    "        multi += 1\n",
    "        print(f'{c} :\\t{k}')\n",
    "print(f'Complete - {multi} of {len(constits)} belong to multiple areas')"
   ]
  },
  {
   "cell_type": "markdown",
   "id": "62619b1b",
   "metadata": {
    "hidden": true
   },
   "source": [
    "- Regions belong to unique countries\n",
    "\n",
    "- Every county belongs to a unique region, except E99999999 (unitary authories)\n",
    "\n",
    "- Fifteen of 650 constituencies substantially overlap two counties. In all but two cases they extend into UAs; the others straddle London\n",
    "    \n",
    "- Every local authority belongs to a unique county\n",
    "\n",
    "- Local authorities and constituencies have very little in common"
   ]
  },
  {
   "cell_type": "markdown",
   "id": "b6d0c648",
   "metadata": {
    "hidden": true
   },
   "source": [
    "Marking boundaries by the unique boundaries between *all* five criteria seems reasonable."
   ]
  },
  {
   "cell_type": "code",
   "execution_count": 35,
   "id": "6d04cd86",
   "metadata": {
    "hidden": true
   },
   "outputs": [
    {
     "name": "stdout",
     "output_type": "stream",
     "text": [
      "E14000902\tRossendale and Darwen\n",
      "\tE99999999\t(pseudo) England (UA/MD/LB)\t1136\n",
      "\tE10000017\tLancashire\t2061\n",
      "E14000597\tBrighton, Kemptown\n",
      "\tE99999999\t(pseudo) England (UA/MD/LB)\t1270\n",
      "\tE10000011\tEast Sussex\t563\n",
      "E14000788\tLewisham West and Penge\n",
      "\tE13000002\tOuter London\t998\n",
      "\tE13000001\tInner London\t1142\n",
      "E14000933\tSouth Basildon and East Thurrock\n",
      "\tE99999999\t(pseudo) England (UA/MD/LB)\t1002\n",
      "\tE10000012\tEssex\t1212\n",
      "E14000626\tChatham and Aylesford\n",
      "\tE10000016\tKent\t1010\n",
      "\tE99999999\t(pseudo) England (UA/MD/LB)\t1085\n",
      "E14000814\tMid Derbyshire\n",
      "\tE99999999\t(pseudo) England (UA/MD/LB)\t920\n",
      "\tE10000007\tDerbyshire\t960\n",
      "E14000572\tBlackpool North and Cleveleys\n",
      "\tE99999999\t(pseudo) England (UA/MD/LB)\t1394\n",
      "\tE10000017\tLancashire\t606\n",
      "E14000909\tRutland and Melton\n",
      "\tE10000018\tLeicestershire\t1920\n",
      "\tE99999999\t(pseudo) England (UA/MD/LB)\t1259\n",
      "E14000727\tHampstead and Kilburn\n",
      "\tE13000002\tOuter London\t897\n",
      "\tE13000001\tInner London\t2013\n",
      "E14000855\tNorth West Cambridgeshire\n",
      "\tE99999999\t(pseudo) England (UA/MD/LB)\t1610\n",
      "\tE10000003\tCambridgeshire\t1604\n",
      "E14000950\tSouth West Devon\n",
      "\tE99999999\t(pseudo) England (UA/MD/LB)\t1503\n",
      "\tE10000008\tDevon\t1438\n",
      "E14001001\tTotnes\n",
      "\tE10000008\tDevon\t2610\n",
      "\tE99999999\t(pseudo) England (UA/MD/LB)\t1039\n",
      "E14000901\tRomsey and Southampton North\n",
      "\tE10000014\tHampshire\t1925\n",
      "\tE99999999\t(pseudo) England (UA/MD/LB)\t614\n",
      "E14000899\tRochford and Southend East\n",
      "\tE99999999\t(pseudo) England (UA/MD/LB)\t1862\n",
      "\tE10000012\tEssex\t456\n",
      "E14000973\tStoke-on-Trent North\n",
      "\tE99999999\t(pseudo) England (UA/MD/LB)\t1845\n",
      "\tE10000028\tStaffordshire\t441\n"
     ]
    }
   ],
   "source": [
    "constit_list = [\n",
    "    'E14000902',\n",
    "    'E14000597',\n",
    "    'E14000788',\n",
    "    'E14000933',\n",
    "    'E14000626',\n",
    "    'E14000814',\n",
    "    'E14000572',\n",
    "    'E14000909',\n",
    "    'E14000727',\n",
    "    'E14000855',\n",
    "    'E14000950',\n",
    "    'E14001001',\n",
    "    'E14000901',\n",
    "    'E14000899',\n",
    "    'E14000973'\n",
    "]\n",
    "\n",
    "for c in constit_list:\n",
    "    ctys = pd.unique(nspl[nspl.pcon==c].county)\n",
    "    c_name = wpc_df[wpc_df.code==c].name.values[0]\n",
    "    print(f'{c}\\t{c_name}')\n",
    "    for cty in ctys:\n",
    "        cty_name = cty_df[cty_df.code==cty].name.values[0]\n",
    "        print(f'\\t{cty}\\t{cty_name}\\t{len(nspl[(nspl.pcon==c) & (nspl.county==cty)])}')"
   ]
  },
  {
   "cell_type": "code",
   "execution_count": 23,
   "id": "610722c2",
   "metadata": {
    "hidden": true
   },
   "outputs": [],
   "source": [
    "cty_df = pd.read_csv('C11 County Codes.csv')\n",
    "wpc_df = pd.read_csv('C11 WPC Codes.csv')"
   ]
  },
  {
   "cell_type": "code",
   "execution_count": 26,
   "id": "06657106",
   "metadata": {
    "hidden": true
   },
   "outputs": [],
   "source": [
    "wpc_df.columns = ['code', 'name']"
   ]
  },
  {
   "cell_type": "code",
   "execution_count": 33,
   "id": "041f915d",
   "metadata": {
    "hidden": true
   },
   "outputs": [
    {
     "data": {
      "text/html": [
       "<div>\n",
       "<style scoped>\n",
       "    .dataframe tbody tr th:only-of-type {\n",
       "        vertical-align: middle;\n",
       "    }\n",
       "\n",
       "    .dataframe tbody tr th {\n",
       "        vertical-align: top;\n",
       "    }\n",
       "\n",
       "    .dataframe thead th {\n",
       "        text-align: right;\n",
       "    }\n",
       "</style>\n",
       "<table border=\"1\" class=\"dataframe\">\n",
       "  <thead>\n",
       "    <tr style=\"text-align: right;\">\n",
       "      <th></th>\n",
       "      <th>code</th>\n",
       "      <th>name</th>\n",
       "    </tr>\n",
       "  </thead>\n",
       "  <tbody>\n",
       "    <tr>\n",
       "      <th>0</th>\n",
       "      <td>E14000530</td>\n",
       "      <td>Aldershot</td>\n",
       "    </tr>\n",
       "    <tr>\n",
       "      <th>1</th>\n",
       "      <td>E14000531</td>\n",
       "      <td>Aldridge-Brownhills</td>\n",
       "    </tr>\n",
       "    <tr>\n",
       "      <th>2</th>\n",
       "      <td>E14000532</td>\n",
       "      <td>Altrincham and Sale West</td>\n",
       "    </tr>\n",
       "    <tr>\n",
       "      <th>3</th>\n",
       "      <td>E14000533</td>\n",
       "      <td>Amber Valley</td>\n",
       "    </tr>\n",
       "    <tr>\n",
       "      <th>4</th>\n",
       "      <td>E14000534</td>\n",
       "      <td>Arundel and South Downs</td>\n",
       "    </tr>\n",
       "    <tr>\n",
       "      <th>...</th>\n",
       "      <td>...</td>\n",
       "      <td>...</td>\n",
       "    </tr>\n",
       "    <tr>\n",
       "      <th>647</th>\n",
       "      <td>W07000076</td>\n",
       "      <td>Caerphilly</td>\n",
       "    </tr>\n",
       "    <tr>\n",
       "      <th>648</th>\n",
       "      <td>W07000077</td>\n",
       "      <td>Islwyn</td>\n",
       "    </tr>\n",
       "    <tr>\n",
       "      <th>649</th>\n",
       "      <td>W07000078</td>\n",
       "      <td>Vale of Glamorgan</td>\n",
       "    </tr>\n",
       "    <tr>\n",
       "      <th>650</th>\n",
       "      <td>W07000079</td>\n",
       "      <td>Cardiff West</td>\n",
       "    </tr>\n",
       "    <tr>\n",
       "      <th>651</th>\n",
       "      <td>W07000080</td>\n",
       "      <td>Cardiff South and Penarth</td>\n",
       "    </tr>\n",
       "  </tbody>\n",
       "</table>\n",
       "<p>652 rows × 2 columns</p>\n",
       "</div>"
      ],
      "text/plain": [
       "          code                       name\n",
       "0    E14000530                  Aldershot\n",
       "1    E14000531        Aldridge-Brownhills\n",
       "2    E14000532   Altrincham and Sale West\n",
       "3    E14000533               Amber Valley\n",
       "4    E14000534    Arundel and South Downs\n",
       "..         ...                        ...\n",
       "647  W07000076                 Caerphilly\n",
       "648  W07000077                     Islwyn\n",
       "649  W07000078          Vale of Glamorgan\n",
       "650  W07000079               Cardiff West\n",
       "651  W07000080  Cardiff South and Penarth\n",
       "\n",
       "[652 rows x 2 columns]"
      ]
     },
     "execution_count": 33,
     "metadata": {},
     "output_type": "execute_result"
    }
   ],
   "source": [
    "wpc_df"
   ]
  },
  {
   "cell_type": "code",
   "execution_count": 27,
   "id": "1971ade1",
   "metadata": {
    "hidden": true
   },
   "outputs": [],
   "source": [
    "cty_df.columns = ['code', 'name', 'col1', 'col2']"
   ]
  },
  {
   "cell_type": "markdown",
   "id": "bc853518",
   "metadata": {
    "heading_collapsed": true
   },
   "source": [
    "## Marking Boundaries"
   ]
  },
  {
   "cell_type": "code",
   "execution_count": 41,
   "id": "9e7da0f0",
   "metadata": {
    "hidden": true
   },
   "outputs": [],
   "source": [
    "atoms = nspl[['postcode', 'country', 'region', 'county', 'pcon', 'laua', 'north', 'east']].copy()"
   ]
  },
  {
   "cell_type": "code",
   "execution_count": 88,
   "id": "bbac33cf",
   "metadata": {
    "hidden": true
   },
   "outputs": [],
   "source": [
    "areas = pd.DataFrame(atoms.values[:, 1:6]).drop_duplicates().reset_index(drop=True).reset_index()\n",
    "areas.columns = ['uid', 'country', 'region', 'county', 'pcon', 'laua']"
   ]
  },
  {
   "cell_type": "code",
   "execution_count": 93,
   "id": "61fcfcdc",
   "metadata": {
    "hidden": true
   },
   "outputs": [],
   "source": [
    "atom_ids = atoms.merge(areas, 'inner', ['country', 'region', 'county', 'pcon', 'laua'])"
   ]
  },
  {
   "cell_type": "code",
   "execution_count": 95,
   "id": "a4e91dc7",
   "metadata": {
    "hidden": true
   },
   "outputs": [],
   "source": [
    "points = atom_ids[['postcode', 'north', 'east', 'uid']].copy()"
   ]
  },
  {
   "cell_type": "code",
   "execution_count": null,
   "id": "1a941582",
   "metadata": {
    "hidden": true
   },
   "outputs": [],
   "source": [
    "atoms = nspl[['postcode', 'country', 'region', 'county', 'pcon', 'laua', 'north', 'east']].copy()\n",
    "\n",
    "areas = pd.DataFrame(atoms.values[:, 1:6]).drop_duplicates().reset_index(drop=True).reset_index()\n",
    "areas.columns = ['uid', 'country', 'region', 'county', 'pcon', 'laua']\n",
    "\n",
    "atom_ids = atoms.merge(areas, 'inner', ['country', 'region', 'county', 'pcon', 'laua'])\n",
    "points = atom_ids[['postcode', 'north', 'east', 'uid']].copy()"
   ]
  },
  {
   "cell_type": "code",
   "execution_count": 96,
   "id": "65770d16",
   "metadata": {
    "hidden": true
   },
   "outputs": [
    {
     "data": {
      "text/html": [
       "<div>\n",
       "<style scoped>\n",
       "    .dataframe tbody tr th:only-of-type {\n",
       "        vertical-align: middle;\n",
       "    }\n",
       "\n",
       "    .dataframe tbody tr th {\n",
       "        vertical-align: top;\n",
       "    }\n",
       "\n",
       "    .dataframe thead th {\n",
       "        text-align: right;\n",
       "    }\n",
       "</style>\n",
       "<table border=\"1\" class=\"dataframe\">\n",
       "  <thead>\n",
       "    <tr style=\"text-align: right;\">\n",
       "      <th></th>\n",
       "      <th>postcode</th>\n",
       "      <th>north</th>\n",
       "      <th>east</th>\n",
       "      <th>uid</th>\n",
       "    </tr>\n",
       "  </thead>\n",
       "  <tbody>\n",
       "    <tr>\n",
       "      <th>0</th>\n",
       "      <td>AB101AB</td>\n",
       "      <td>624.424060</td>\n",
       "      <td>-146.161338</td>\n",
       "      <td>0</td>\n",
       "    </tr>\n",
       "    <tr>\n",
       "      <th>1</th>\n",
       "      <td>AB101AF</td>\n",
       "      <td>624.323171</td>\n",
       "      <td>-146.213555</td>\n",
       "      <td>0</td>\n",
       "    </tr>\n",
       "    <tr>\n",
       "      <th>2</th>\n",
       "      <td>AB101AG</td>\n",
       "      <td>624.362211</td>\n",
       "      <td>-146.165744</td>\n",
       "      <td>0</td>\n",
       "    </tr>\n",
       "    <tr>\n",
       "      <th>3</th>\n",
       "      <td>AB101AH</td>\n",
       "      <td>624.256361</td>\n",
       "      <td>-146.022750</td>\n",
       "      <td>0</td>\n",
       "    </tr>\n",
       "    <tr>\n",
       "      <th>4</th>\n",
       "      <td>AB101AL</td>\n",
       "      <td>624.475306</td>\n",
       "      <td>-146.101827</td>\n",
       "      <td>0</td>\n",
       "    </tr>\n",
       "    <tr>\n",
       "      <th>...</th>\n",
       "      <td>...</td>\n",
       "      <td>...</td>\n",
       "      <td>...</td>\n",
       "      <td>...</td>\n",
       "    </tr>\n",
       "    <tr>\n",
       "      <th>1756483</th>\n",
       "      <td>ZE3 9JU</td>\n",
       "      <td>929.745694</td>\n",
       "      <td>-106.661593</td>\n",
       "      <td>877</td>\n",
       "    </tr>\n",
       "    <tr>\n",
       "      <th>1756484</th>\n",
       "      <td>ZE3 9JW</td>\n",
       "      <td>927.986868</td>\n",
       "      <td>-106.529768</td>\n",
       "      <td>877</td>\n",
       "    </tr>\n",
       "    <tr>\n",
       "      <th>1756485</th>\n",
       "      <td>ZE3 9JX</td>\n",
       "      <td>928.165330</td>\n",
       "      <td>-106.635818</td>\n",
       "      <td>877</td>\n",
       "    </tr>\n",
       "    <tr>\n",
       "      <th>1756486</th>\n",
       "      <td>ZE3 9JY</td>\n",
       "      <td>929.960450</td>\n",
       "      <td>-107.039740</td>\n",
       "      <td>877</td>\n",
       "    </tr>\n",
       "    <tr>\n",
       "      <th>1756487</th>\n",
       "      <td>ZE3 9JZ</td>\n",
       "      <td>930.055730</td>\n",
       "      <td>-106.876984</td>\n",
       "      <td>877</td>\n",
       "    </tr>\n",
       "  </tbody>\n",
       "</table>\n",
       "<p>1756488 rows × 4 columns</p>\n",
       "</div>"
      ],
      "text/plain": [
       "        postcode       north        east  uid\n",
       "0        AB101AB  624.424060 -146.161338    0\n",
       "1        AB101AF  624.323171 -146.213555    0\n",
       "2        AB101AG  624.362211 -146.165744    0\n",
       "3        AB101AH  624.256361 -146.022750    0\n",
       "4        AB101AL  624.475306 -146.101827    0\n",
       "...          ...         ...         ...  ...\n",
       "1756483  ZE3 9JU  929.745694 -106.661593  877\n",
       "1756484  ZE3 9JW  927.986868 -106.529768  877\n",
       "1756485  ZE3 9JX  928.165330 -106.635818  877\n",
       "1756486  ZE3 9JY  929.960450 -107.039740  877\n",
       "1756487  ZE3 9JZ  930.055730 -106.876984  877\n",
       "\n",
       "[1756488 rows x 4 columns]"
      ]
     },
     "execution_count": 96,
     "metadata": {},
     "output_type": "execute_result"
    }
   ],
   "source": [
    "points"
   ]
  },
  {
   "cell_type": "markdown",
   "id": "f20ee6db",
   "metadata": {
    "heading_collapsed": true
   },
   "source": [
    "## Chunks"
   ]
  },
  {
   "cell_type": "markdown",
   "id": "bf2f7dbe",
   "metadata": {
    "hidden": true
   },
   "source": [
    "We wish to form a close triangulation in order to find edges crossing uid boundaries.\n",
    "\n",
    "Process:\n",
    "\n",
    "- Pick a random point\n",
    "\n",
    "- Find its closest unconnected neighbour\n",
    "\n",
    "- Check the potential edge crosses no others\n",
    "\n",
    "- Add the edge\n",
    "\n",
    "- Repeat"
   ]
  },
  {
   "cell_type": "markdown",
   "id": "4e1555ab",
   "metadata": {
    "hidden": true
   },
   "source": [
    "Need a faster process. Let's use the idea of subdivision.\n",
    "\n",
    "Process:\n",
    "\n",
    "- Pick a small selection of random points\n",
    "\n",
    "- Split the list of points into regions depending on which are closest to which point\n",
    "\n",
    "- Hence repeat on the same neighbourhood"
   ]
  },
  {
   "cell_type": "code",
   "execution_count": 136,
   "id": "27eedcb4",
   "metadata": {
    "hidden": true
   },
   "outputs": [],
   "source": [
    "coords = points[['east', 'north']].values.copy()"
   ]
  },
  {
   "cell_type": "code",
   "execution_count": 190,
   "id": "51f41ef9",
   "metadata": {
    "hidden": true
   },
   "outputs": [],
   "source": [
    "def chunk_regions(coords, K=20):\n",
    "    \n",
    "    N = len(coords)\n",
    "    indxs = np.random.randint(N, size=K)\n",
    "    dists = np.linalg.norm(coords[:, np.newaxis, :] - coords[np.newaxis, indxs, :], axis=2)\n",
    "    separate = np.argsort(dists)[:,0]\n",
    "    \n",
    "    new_list = []\n",
    "    for i in range(K):\n",
    "        new_list += [coords[separate==i].copy()]\n",
    "        \n",
    "    return new_list\n",
    "\n",
    "\n",
    "def complete_chunk(coords):\n",
    "    \n",
    "    size = 2000\n",
    "    chunk_list = [coords]\n",
    "    flag = True\n",
    "    while flag:\n",
    "        print('New iteration')\n",
    "        flag = False\n",
    "        new_list = []\n",
    "        for chunk in chunk_list:\n",
    "            if len(chunk) > size:\n",
    "                flag = True\n",
    "                K = min(20, len(chunk)//size + 1)\n",
    "                new_list += chunk_regions(chunk, K)\n",
    "            else:\n",
    "                new_list += [chunk]\n",
    "        chunk_list = new_list.copy()\n",
    "    return chunk_list"
   ]
  },
  {
   "cell_type": "code",
   "execution_count": 191,
   "id": "1f8b7904",
   "metadata": {
    "hidden": true
   },
   "outputs": [
    {
     "name": "stdout",
     "output_type": "stream",
     "text": [
      "New iteration\n",
      "New iteration\n",
      "New iteration\n",
      "New iteration\n",
      "New iteration\n",
      "New iteration\n",
      "New iteration\n",
      "New iteration\n"
     ]
    }
   ],
   "source": [
    "chunks = complete_chunk(coords)"
   ]
  },
  {
   "cell_type": "code",
   "execution_count": 193,
   "id": "07577eb0",
   "metadata": {
    "hidden": true
   },
   "outputs": [
    {
     "data": {
      "text/plain": [
       "[766,\n",
       " 1595,\n",
       " 591,\n",
       " 687,\n",
       " 999,\n",
       " 1528,\n",
       " 1840,\n",
       " 942,\n",
       " 1677,\n",
       " 1063,\n",
       " 1173,\n",
       " 1091,\n",
       " 963,\n",
       " 503,\n",
       " 1758,\n",
       " 1528,\n",
       " 1601,\n",
       " 1926,\n",
       " 978,\n",
       " 841,\n",
       " 1669,\n",
       " 702,\n",
       " 695,\n",
       " 1130,\n",
       " 1624,\n",
       " 929,\n",
       " 1665,\n",
       " 1612,\n",
       " 1110,\n",
       " 911,\n",
       " 1517,\n",
       " 800,\n",
       " 1637,\n",
       " 337,\n",
       " 1590,\n",
       " 651,\n",
       " 1027,\n",
       " 969,\n",
       " 1236,\n",
       " 484,\n",
       " 784,\n",
       " 1586,\n",
       " 732,\n",
       " 1640,\n",
       " 1343,\n",
       " 1256,\n",
       " 1782,\n",
       " 762,\n",
       " 503,\n",
       " 1699,\n",
       " 1038,\n",
       " 1267,\n",
       " 840,\n",
       " 232,\n",
       " 775,\n",
       " 1236,\n",
       " 1074,\n",
       " 1086,\n",
       " 1310,\n",
       " 767,\n",
       " 511,\n",
       " 997,\n",
       " 1925,\n",
       " 843,\n",
       " 1095,\n",
       " 1796,\n",
       " 732,\n",
       " 1879,\n",
       " 364,\n",
       " 1515,\n",
       " 506,\n",
       " 819,\n",
       " 1303,\n",
       " 974,\n",
       " 1844,\n",
       " 1480,\n",
       " 977,\n",
       " 1056,\n",
       " 1298,\n",
       " 912,\n",
       " 1665,\n",
       " 1374,\n",
       " 1542,\n",
       " 1532,\n",
       " 1101,\n",
       " 1726,\n",
       " 990,\n",
       " 1052,\n",
       " 1987,\n",
       " 1672,\n",
       " 296,\n",
       " 1191,\n",
       " 792,\n",
       " 1483,\n",
       " 1134,\n",
       " 1755,\n",
       " 1715,\n",
       " 1236,\n",
       " 584,\n",
       " 770,\n",
       " 805,\n",
       " 1112,\n",
       " 894,\n",
       " 1913,\n",
       " 1263,\n",
       " 904,\n",
       " 702,\n",
       " 1609,\n",
       " 1175,\n",
       " 1267,\n",
       " 954,\n",
       " 869,\n",
       " 1473,\n",
       " 1918,\n",
       " 671,\n",
       " 915,\n",
       " 729,\n",
       " 491,\n",
       " 1843,\n",
       " 1030,\n",
       " 1543,\n",
       " 1238,\n",
       " 807,\n",
       " 1855,\n",
       " 498,\n",
       " 625,\n",
       " 762,\n",
       " 1528,\n",
       " 487,\n",
       " 1726,\n",
       " 944,\n",
       " 1556,\n",
       " 1440,\n",
       " 634,\n",
       " 1359,\n",
       " 1089,\n",
       " 621,\n",
       " 401,\n",
       " 1633,\n",
       " 669,\n",
       " 847,\n",
       " 1270,\n",
       " 1104,\n",
       " 1411,\n",
       " 1947,\n",
       " 1034,\n",
       " 1279,\n",
       " 1916,\n",
       " 1522,\n",
       " 1455,\n",
       " 726,\n",
       " 1655,\n",
       " 583,\n",
       " 1549,\n",
       " 492,\n",
       " 1548,\n",
       " 884,\n",
       " 1389,\n",
       " 845,\n",
       " 428,\n",
       " 704,\n",
       " 1297,\n",
       " 1261,\n",
       " 1804,\n",
       " 1306,\n",
       " 865,\n",
       " 1989,\n",
       " 1546,\n",
       " 632,\n",
       " 1285,\n",
       " 984,\n",
       " 941,\n",
       " 808,\n",
       " 493,\n",
       " 1018,\n",
       " 1709,\n",
       " 1089,\n",
       " 1195,\n",
       " 935,\n",
       " 1026,\n",
       " 1999,\n",
       " 1679,\n",
       " 879,\n",
       " 759,\n",
       " 1915,\n",
       " 1730,\n",
       " 494,\n",
       " 1449,\n",
       " 931,\n",
       " 410,\n",
       " 1299,\n",
       " 1580,\n",
       " 140,\n",
       " 305,\n",
       " 1987,\n",
       " 1366,\n",
       " 1644,\n",
       " 617,\n",
       " 377,\n",
       " 435,\n",
       " 207,\n",
       " 526,\n",
       " 1540,\n",
       " 826,\n",
       " 1536,\n",
       " 1122,\n",
       " 1146,\n",
       " 1904,\n",
       " 795,\n",
       " 1315,\n",
       " 696,\n",
       " 673,\n",
       " 1701,\n",
       " 1072,\n",
       " 1323,\n",
       " 949,\n",
       " 992,\n",
       " 1288,\n",
       " 334,\n",
       " 1622,\n",
       " 866,\n",
       " 368,\n",
       " 1669,\n",
       " 1958,\n",
       " 1094,\n",
       " 330,\n",
       " 1400,\n",
       " 982,\n",
       " 188,\n",
       " 1099,\n",
       " 874,\n",
       " 1854,\n",
       " 1494,\n",
       " 687,\n",
       " 753,\n",
       " 1721,\n",
       " 971,\n",
       " 1656,\n",
       " 807,\n",
       " 334,\n",
       " 1041,\n",
       " 1367,\n",
       " 1009,\n",
       " 1250,\n",
       " 529,\n",
       " 1395,\n",
       " 1037,\n",
       " 1204,\n",
       " 1609,\n",
       " 486,\n",
       " 346,\n",
       " 724,\n",
       " 1655,\n",
       " 1957,\n",
       " 768,\n",
       " 742,\n",
       " 366,\n",
       " 1187,\n",
       " 1004,\n",
       " 1801,\n",
       " 1901,\n",
       " 1758,\n",
       " 1157,\n",
       " 892,\n",
       " 1771,\n",
       " 1993,\n",
       " 1669,\n",
       " 357,\n",
       " 864,\n",
       " 492,\n",
       " 1144,\n",
       " 870,\n",
       " 687,\n",
       " 1526,\n",
       " 1616,\n",
       " 1237,\n",
       " 862,\n",
       " 195,\n",
       " 885,\n",
       " 1567,\n",
       " 433,\n",
       " 1236,\n",
       " 1823,\n",
       " 1071,\n",
       " 1175,\n",
       " 611,\n",
       " 282,\n",
       " 1344,\n",
       " 687,\n",
       " 871,\n",
       " 1153,\n",
       " 1012,\n",
       " 1854,\n",
       " 270,\n",
       " 1058,\n",
       " 623,\n",
       " 1079,\n",
       " 1053,\n",
       " 1354,\n",
       " 320,\n",
       " 771,\n",
       " 1312,\n",
       " 422,\n",
       " 493,\n",
       " 230,\n",
       " 950,\n",
       " 1275,\n",
       " 1133,\n",
       " 1468,\n",
       " 951,\n",
       " 1170,\n",
       " 849,\n",
       " 641,\n",
       " 505,\n",
       " 1987,\n",
       " 472,\n",
       " 1883,\n",
       " 1410,\n",
       " 1960,\n",
       " 940,\n",
       " 1775,\n",
       " 1942,\n",
       " 971,\n",
       " 1199,\n",
       " 1525,\n",
       " 495,\n",
       " 50,\n",
       " 262,\n",
       " 1042,\n",
       " 1406,\n",
       " 1223,\n",
       " 953,\n",
       " 1153,\n",
       " 1120,\n",
       " 1870,\n",
       " 1973,\n",
       " 1148,\n",
       " 1383,\n",
       " 1459,\n",
       " 1133,\n",
       " 916,\n",
       " 1718,\n",
       " 605,\n",
       " 1985,\n",
       " 1213,\n",
       " 910,\n",
       " 1594,\n",
       " 164,\n",
       " 1279,\n",
       " 1243,\n",
       " 880,\n",
       " 917,\n",
       " 1537,\n",
       " 783,\n",
       " 868,\n",
       " 1154,\n",
       " 1932,\n",
       " 1332,\n",
       " 1245,\n",
       " 779,\n",
       " 1213,\n",
       " 921,\n",
       " 1785,\n",
       " 786,\n",
       " 1911,\n",
       " 1603,\n",
       " 432,\n",
       " 1187,\n",
       " 1554,\n",
       " 1344,\n",
       " 1350,\n",
       " 1037,\n",
       " 740,\n",
       " 1824,\n",
       " 723,\n",
       " 433,\n",
       " 1106,\n",
       " 1176,\n",
       " 1057,\n",
       " 620,\n",
       " 1743,\n",
       " 615,\n",
       " 930,\n",
       " 1285,\n",
       " 1538,\n",
       " 1393,\n",
       " 938,\n",
       " 689,\n",
       " 160,\n",
       " 842,\n",
       " 1204,\n",
       " 930,\n",
       " 823,\n",
       " 1390,\n",
       " 723,\n",
       " 1174,\n",
       " 1103,\n",
       " 105,\n",
       " 1638,\n",
       " 1684,\n",
       " 1525,\n",
       " 1853,\n",
       " 1807,\n",
       " 1317,\n",
       " 790,\n",
       " 1407,\n",
       " 1800,\n",
       " 782,\n",
       " 1970,\n",
       " 541,\n",
       " 1234,\n",
       " 929,\n",
       " 116,\n",
       " 218,\n",
       " 1087,\n",
       " 1332,\n",
       " 1533,\n",
       " 264,\n",
       " 1985,\n",
       " 1107,\n",
       " 996,\n",
       " 655,\n",
       " 1723,\n",
       " 1537,\n",
       " 865,\n",
       " 576,\n",
       " 1479,\n",
       " 1447,\n",
       " 1209,\n",
       " 1012,\n",
       " 1504,\n",
       " 803,\n",
       " 232,\n",
       " 1885,\n",
       " 1297,\n",
       " 1109,\n",
       " 1912,\n",
       " 1246,\n",
       " 387,\n",
       " 1965,\n",
       " 1000,\n",
       " 1158,\n",
       " 787,\n",
       " 1454,\n",
       " 576,\n",
       " 1170,\n",
       " 1159,\n",
       " 713,\n",
       " 953,\n",
       " 832,\n",
       " 341,\n",
       " 774,\n",
       " 239,\n",
       " 611,\n",
       " 1978,\n",
       " 284,\n",
       " 956,\n",
       " 1463,\n",
       " 199,\n",
       " 1703,\n",
       " 515,\n",
       " 817,\n",
       " 433,\n",
       " 1704,\n",
       " 1220,\n",
       " 1238,\n",
       " 895,\n",
       " 829,\n",
       " 1155,\n",
       " 429,\n",
       " 1544,\n",
       " 83,\n",
       " 1781,\n",
       " 1943,\n",
       " 1647,\n",
       " 639,\n",
       " 1539,\n",
       " 627,\n",
       " 426,\n",
       " 1603,\n",
       " 744,\n",
       " 602,\n",
       " 784,\n",
       " 214,\n",
       " 697,\n",
       " 646,\n",
       " 1745,\n",
       " 95,\n",
       " 1758,\n",
       " 335,\n",
       " 118,\n",
       " 1239,\n",
       " 1652,\n",
       " 853,\n",
       " 1702,\n",
       " 577,\n",
       " 133,\n",
       " 1624,\n",
       " 1539,\n",
       " 368,\n",
       " 750,\n",
       " 1349,\n",
       " 659,\n",
       " 630,\n",
       " 0,\n",
       " 1339,\n",
       " 837,\n",
       " 922,\n",
       " 380,\n",
       " 681,\n",
       " 1976,\n",
       " 1664,\n",
       " 1719,\n",
       " 356,\n",
       " 1427,\n",
       " 1807,\n",
       " 602,\n",
       " 412,\n",
       " 787,\n",
       " 662,\n",
       " 1387,\n",
       " 264,\n",
       " 1766,\n",
       " 1885,\n",
       " 578,\n",
       " 1139,\n",
       " 1286,\n",
       " 1048,\n",
       " 419,\n",
       " 970,\n",
       " 1535,\n",
       " 1096,\n",
       " 671,\n",
       " 1256,\n",
       " 1816,\n",
       " 245,\n",
       " 870,\n",
       " 1561,\n",
       " 1122,\n",
       " 1510,\n",
       " 576,\n",
       " 1856,\n",
       " 308,\n",
       " 1916,\n",
       " 250,\n",
       " 1816,\n",
       " 904,\n",
       " 585,\n",
       " 1546,\n",
       " 1333,\n",
       " 1009,\n",
       " 1324,\n",
       " 769,\n",
       " 913,\n",
       " 1504,\n",
       " 676,\n",
       " 1784,\n",
       " 1651,\n",
       " 850,\n",
       " 1659,\n",
       " 1324,\n",
       " 1733,\n",
       " 949,\n",
       " 307,\n",
       " 1824,\n",
       " 684,\n",
       " 311,\n",
       " 158,\n",
       " 615,\n",
       " 1415,\n",
       " 1541,\n",
       " 1696,\n",
       " 352,\n",
       " 473,\n",
       " 1162,\n",
       " 1827,\n",
       " 1111,\n",
       " 1374,\n",
       " 1369,\n",
       " 1154,\n",
       " 1804,\n",
       " 1130,\n",
       " 1159,\n",
       " 699,\n",
       " 1715,\n",
       " 510,\n",
       " 1385,\n",
       " 1867,\n",
       " 1042,\n",
       " 1548,\n",
       " 1273,\n",
       " 1527,\n",
       " 1137,\n",
       " 1624,\n",
       " 549,\n",
       " 490,\n",
       " 1682,\n",
       " 1402,\n",
       " 634,\n",
       " 1405,\n",
       " 1721,\n",
       " 1840,\n",
       " 1505,\n",
       " 1322,\n",
       " 1339,\n",
       " 1965,\n",
       " 1394,\n",
       " 643,\n",
       " 1592,\n",
       " 1085,\n",
       " 474,\n",
       " 428,\n",
       " 1989,\n",
       " 489,\n",
       " 474,\n",
       " 731,\n",
       " 578,\n",
       " 150,\n",
       " 1797,\n",
       " 350,\n",
       " 933,\n",
       " 1694,\n",
       " 675,\n",
       " 1143,\n",
       " 1993,\n",
       " 1436,\n",
       " 740,\n",
       " 1126,\n",
       " 967,\n",
       " 1598,\n",
       " 104,\n",
       " 307,\n",
       " 1722,\n",
       " 409,\n",
       " 588,\n",
       " 1656,\n",
       " 1951,\n",
       " 357,\n",
       " 1880,\n",
       " 481,\n",
       " 340,\n",
       " 1770,\n",
       " 667,\n",
       " 832,\n",
       " 1659,\n",
       " 1669,\n",
       " 814,\n",
       " 702,\n",
       " 1838,\n",
       " 440,\n",
       " 1659,\n",
       " 1493,\n",
       " 852,\n",
       " 308,\n",
       " 1790,\n",
       " 288,\n",
       " 1298,\n",
       " 882,\n",
       " 1722,\n",
       " 1437,\n",
       " 1733,\n",
       " 1908,\n",
       " 1029,\n",
       " 1006,\n",
       " 804,\n",
       " 155,\n",
       " 1267,\n",
       " 911,\n",
       " 203,\n",
       " 1898,\n",
       " 385,\n",
       " 1666,\n",
       " 1039,\n",
       " 1011,\n",
       " 1609,\n",
       " 1523,\n",
       " 1165,\n",
       " 1761,\n",
       " 953,\n",
       " 228,\n",
       " 1537,\n",
       " 1033,\n",
       " 384,\n",
       " 855,\n",
       " 1132,\n",
       " 906,\n",
       " 1119,\n",
       " 95,\n",
       " 892,\n",
       " 1091,\n",
       " 1514,\n",
       " 648,\n",
       " 1602,\n",
       " 1947,\n",
       " 1680,\n",
       " 1516,\n",
       " 158,\n",
       " 1072,\n",
       " 1611,\n",
       " 1051,\n",
       " 1461,\n",
       " 1766,\n",
       " 691,\n",
       " 1019,\n",
       " 588,\n",
       " 1639,\n",
       " 1505,\n",
       " 1763,\n",
       " 378,\n",
       " 1691,\n",
       " 1345,\n",
       " 1377,\n",
       " 526,\n",
       " 455,\n",
       " 139,\n",
       " 1884,\n",
       " 721,\n",
       " 952,\n",
       " 1451,\n",
       " 977,\n",
       " 1135,\n",
       " 1895,\n",
       " 791,\n",
       " 1920,\n",
       " 308,\n",
       " 1731,\n",
       " 1372,\n",
       " 1383,\n",
       " 1223,\n",
       " 1147,\n",
       " 786,\n",
       " 1374,\n",
       " 958,\n",
       " 632,\n",
       " 1322,\n",
       " 523,\n",
       " 1923,\n",
       " 729,\n",
       " 1325,\n",
       " 1768,\n",
       " 1509,\n",
       " 1168,\n",
       " 1841,\n",
       " 363,\n",
       " 354,\n",
       " 1834,\n",
       " 1834,\n",
       " 328,\n",
       " 1460,\n",
       " 1979,\n",
       " 745,\n",
       " 421,\n",
       " 699,\n",
       " 421,\n",
       " 1198,\n",
       " 982,\n",
       " 1150,\n",
       " 1846,\n",
       " 1168,\n",
       " 980,\n",
       " 1343,\n",
       " 1924,\n",
       " 741,\n",
       " 1930,\n",
       " 939,\n",
       " 1153,\n",
       " 698,\n",
       " 1695,\n",
       " 1734,\n",
       " 863,\n",
       " 966,\n",
       " 1726,\n",
       " 760,\n",
       " 1450,\n",
       " 1498,\n",
       " 1490,\n",
       " 1206,\n",
       " 1383,\n",
       " 713,\n",
       " 1062,\n",
       " 1613,\n",
       " 1685,\n",
       " 552,\n",
       " 775,\n",
       " 1957,\n",
       " 1369,\n",
       " 1035,\n",
       " 1409,\n",
       " 1375,\n",
       " 642,\n",
       " 1361,\n",
       " 1239,\n",
       " 433,\n",
       " 1084,\n",
       " 1652,\n",
       " 1352,\n",
       " 880,\n",
       " 1071,\n",
       " 1819,\n",
       " 760,\n",
       " 1738,\n",
       " 579,\n",
       " 897,\n",
       " 1823,\n",
       " 1551,\n",
       " 1558,\n",
       " 498,\n",
       " 817,\n",
       " 1641,\n",
       " 1231,\n",
       " 747,\n",
       " 903,\n",
       " 1723,\n",
       " 932,\n",
       " 1432,\n",
       " 841,\n",
       " 224,\n",
       " 1856,\n",
       " 1866,\n",
       " 243,\n",
       " 1905,\n",
       " 1398,\n",
       " 1538,\n",
       " 513,\n",
       " 1732,\n",
       " 1238,\n",
       " 846,\n",
       " 411,\n",
       " 1195,\n",
       " 311,\n",
       " 1214,\n",
       " 1811,\n",
       " 658,\n",
       " 1482,\n",
       " 1962,\n",
       " 1116,\n",
       " 626,\n",
       " 1185,\n",
       " 1267,\n",
       " 543,\n",
       " 1599,\n",
       " 1057,\n",
       " 636,\n",
       " 656,\n",
       " 716,\n",
       " 1861,\n",
       " 852,\n",
       " 824,\n",
       " 1618,\n",
       " 797,\n",
       " 1397,\n",
       " 1755,\n",
       " 924,\n",
       " 1390,\n",
       " 1105,\n",
       " 1177,\n",
       " 407,\n",
       " 1783,\n",
       " 1486,\n",
       " 319,\n",
       " 1895,\n",
       " 1328,\n",
       " 1979,\n",
       " 685,\n",
       " 1380,\n",
       " 791,\n",
       " 1662,\n",
       " 1218,\n",
       " 1189,\n",
       " 1057,\n",
       " 1525,\n",
       " 1192,\n",
       " 1081,\n",
       " 1648,\n",
       " 1638,\n",
       " 1075,\n",
       " 962,\n",
       " 789,\n",
       " 1374,\n",
       " 971,\n",
       " 1523,\n",
       " 154,\n",
       " 1546,\n",
       " 1737,\n",
       " 1932,\n",
       " 1098,\n",
       " 1605,\n",
       " 1894,\n",
       " 436,\n",
       " 1181,\n",
       " 838,\n",
       " 591,\n",
       " 1547,\n",
       " 1195,\n",
       " 1554,\n",
       " 1345,\n",
       " 876,\n",
       " 704,\n",
       " 976,\n",
       " 1672,\n",
       " 863,\n",
       " 1471,\n",
       " 668,\n",
       " 1108,\n",
       " 1251,\n",
       " 457,\n",
       " 270,\n",
       " 1272,\n",
       " 692,\n",
       " 284,\n",
       " 1872,\n",
       " 592,\n",
       " 1497,\n",
       " 851,\n",
       " 845,\n",
       " 1800,\n",
       " 70,\n",
       " 1767,\n",
       " 308,\n",
       " 369,\n",
       " 684,\n",
       " 932,\n",
       " 1741,\n",
       " 452,\n",
       " 1218,\n",
       " 330,\n",
       " 1879,\n",
       " 304,\n",
       " 983,\n",
       " 1733,\n",
       " 709,\n",
       " 1530,\n",
       " 1570,\n",
       " 817,\n",
       " 239,\n",
       " 1668,\n",
       " 0,\n",
       " 1045,\n",
       " 1419,\n",
       " 887,\n",
       " 787,\n",
       " 1283,\n",
       " 583,\n",
       " 1524,\n",
       " 1080,\n",
       " 1738,\n",
       " 448,\n",
       " 1445,\n",
       " 1569,\n",
       " 577,\n",
       " 1070,\n",
       " 1310,\n",
       " 1943,\n",
       " 1031,\n",
       " 1362,\n",
       " 318,\n",
       " 1932,\n",
       " 1464,\n",
       " 1301,\n",
       " 821,\n",
       " 1245,\n",
       " 1522,\n",
       " 838,\n",
       " 1708,\n",
       " 921,\n",
       " 1116,\n",
       " 830,\n",
       " 1050,\n",
       " 1433,\n",
       " 970,\n",
       " 666,\n",
       " 1247,\n",
       " 387,\n",
       " 1494,\n",
       " 481,\n",
       " 579,\n",
       " 202,\n",
       " 1808,\n",
       " 946,\n",
       " 815,\n",
       " 976,\n",
       " 1150,\n",
       " 1247,\n",
       " 1584,\n",
       " 695,\n",
       " 1209,\n",
       " 864,\n",
       " 1198,\n",
       " 1271,\n",
       " 1371,\n",
       " 1419,\n",
       " 975,\n",
       " 1534,\n",
       " 1796,\n",
       " 688,\n",
       " 1570,\n",
       " 1168,\n",
       " 167,\n",
       " 1557,\n",
       " 715,\n",
       " ...]"
      ]
     },
     "execution_count": 193,
     "metadata": {},
     "output_type": "execute_result"
    }
   ],
   "source": [
    "[len(chunk) for chunk in chunks]"
   ]
  },
  {
   "cell_type": "code",
   "execution_count": 167,
   "id": "80bff86e",
   "metadata": {
    "hidden": true
   },
   "outputs": [],
   "source": [
    "import matplotlib as mlp\n",
    "import matplotlib.pyplot as plt"
   ]
  },
  {
   "cell_type": "code",
   "execution_count": 192,
   "id": "58ce9090",
   "metadata": {
    "hidden": true
   },
   "outputs": [
    {
     "data": {
      "image/png": "[encoded data removed]",
      "text/plain": [
       "<Figure size 640x480 with 1 Axes>"
      ]
     },
     "metadata": {},
     "output_type": "display_data"
    }
   ],
   "source": [
    "fig, ax = plt.subplots()\n",
    "ax.set_aspect('equal', 'box')\n",
    "for c in chunks:\n",
    "    ax.scatter(c[:,0], c[:,1], s=1)"
   ]
  },
  {
   "cell_type": "code",
   "execution_count": 194,
   "id": "7f757386",
   "metadata": {
    "hidden": true
   },
   "outputs": [
    {
     "data": {
      "text/plain": [
       "<matplotlib.collections.PathCollection at 0x24bf7fedbe0>"
      ]
     },
     "execution_count": 194,
     "metadata": {},
     "output_type": "execute_result"
    },
    {
     "data": {
      "image/png": "[encoded data removed]",
      "text/plain": [
       "<Figure size 640x480 with 1 Axes>"
      ]
     },
     "metadata": {},
     "output_type": "display_data"
    }
   ],
   "source": [
    "fig, ax = plt.subplots()\n",
    "ax.set_aspect('equal', 'box')\n",
    "ax.scatter(chunks[0][:,0], chunks[0][:,1], s=1)"
   ]
  },
  {
   "cell_type": "markdown",
   "id": "70604312",
   "metadata": {
    "heading_collapsed": true
   },
   "source": [
    "## Centroids"
   ]
  },
  {
   "cell_type": "code",
   "execution_count": 195,
   "id": "d78a7ed3",
   "metadata": {
    "hidden": true
   },
   "outputs": [
    {
     "data": {
      "text/html": [
       "<div>\n",
       "<style scoped>\n",
       "    .dataframe tbody tr th:only-of-type {\n",
       "        vertical-align: middle;\n",
       "    }\n",
       "\n",
       "    .dataframe tbody tr th {\n",
       "        vertical-align: top;\n",
       "    }\n",
       "\n",
       "    .dataframe thead th {\n",
       "        text-align: right;\n",
       "    }\n",
       "</style>\n",
       "<table border=\"1\" class=\"dataframe\">\n",
       "  <thead>\n",
       "    <tr style=\"text-align: right;\">\n",
       "      <th></th>\n",
       "      <th>postcode</th>\n",
       "      <th>north</th>\n",
       "      <th>east</th>\n",
       "      <th>uid</th>\n",
       "    </tr>\n",
       "  </thead>\n",
       "  <tbody>\n",
       "    <tr>\n",
       "      <th>0</th>\n",
       "      <td>AB101AB</td>\n",
       "      <td>624.424060</td>\n",
       "      <td>-146.161338</td>\n",
       "      <td>0</td>\n",
       "    </tr>\n",
       "    <tr>\n",
       "      <th>1</th>\n",
       "      <td>AB101AF</td>\n",
       "      <td>624.323171</td>\n",
       "      <td>-146.213555</td>\n",
       "      <td>0</td>\n",
       "    </tr>\n",
       "    <tr>\n",
       "      <th>2</th>\n",
       "      <td>AB101AG</td>\n",
       "      <td>624.362211</td>\n",
       "      <td>-146.165744</td>\n",
       "      <td>0</td>\n",
       "    </tr>\n",
       "    <tr>\n",
       "      <th>3</th>\n",
       "      <td>AB101AH</td>\n",
       "      <td>624.256361</td>\n",
       "      <td>-146.022750</td>\n",
       "      <td>0</td>\n",
       "    </tr>\n",
       "    <tr>\n",
       "      <th>4</th>\n",
       "      <td>AB101AL</td>\n",
       "      <td>624.475306</td>\n",
       "      <td>-146.101827</td>\n",
       "      <td>0</td>\n",
       "    </tr>\n",
       "    <tr>\n",
       "      <th>...</th>\n",
       "      <td>...</td>\n",
       "      <td>...</td>\n",
       "      <td>...</td>\n",
       "      <td>...</td>\n",
       "    </tr>\n",
       "    <tr>\n",
       "      <th>1756483</th>\n",
       "      <td>ZE3 9JU</td>\n",
       "      <td>929.745694</td>\n",
       "      <td>-106.661593</td>\n",
       "      <td>877</td>\n",
       "    </tr>\n",
       "    <tr>\n",
       "      <th>1756484</th>\n",
       "      <td>ZE3 9JW</td>\n",
       "      <td>927.986868</td>\n",
       "      <td>-106.529768</td>\n",
       "      <td>877</td>\n",
       "    </tr>\n",
       "    <tr>\n",
       "      <th>1756485</th>\n",
       "      <td>ZE3 9JX</td>\n",
       "      <td>928.165330</td>\n",
       "      <td>-106.635818</td>\n",
       "      <td>877</td>\n",
       "    </tr>\n",
       "    <tr>\n",
       "      <th>1756486</th>\n",
       "      <td>ZE3 9JY</td>\n",
       "      <td>929.960450</td>\n",
       "      <td>-107.039740</td>\n",
       "      <td>877</td>\n",
       "    </tr>\n",
       "    <tr>\n",
       "      <th>1756487</th>\n",
       "      <td>ZE3 9JZ</td>\n",
       "      <td>930.055730</td>\n",
       "      <td>-106.876984</td>\n",
       "      <td>877</td>\n",
       "    </tr>\n",
       "  </tbody>\n",
       "</table>\n",
       "<p>1756488 rows × 4 columns</p>\n",
       "</div>"
      ],
      "text/plain": [
       "        postcode       north        east  uid\n",
       "0        AB101AB  624.424060 -146.161338    0\n",
       "1        AB101AF  624.323171 -146.213555    0\n",
       "2        AB101AG  624.362211 -146.165744    0\n",
       "3        AB101AH  624.256361 -146.022750    0\n",
       "4        AB101AL  624.475306 -146.101827    0\n",
       "...          ...         ...         ...  ...\n",
       "1756483  ZE3 9JU  929.745694 -106.661593  877\n",
       "1756484  ZE3 9JW  927.986868 -106.529768  877\n",
       "1756485  ZE3 9JX  928.165330 -106.635818  877\n",
       "1756486  ZE3 9JY  929.960450 -107.039740  877\n",
       "1756487  ZE3 9JZ  930.055730 -106.876984  877\n",
       "\n",
       "[1756488 rows x 4 columns]"
      ]
     },
     "execution_count": 195,
     "metadata": {},
     "output_type": "execute_result"
    }
   ],
   "source": [
    "points"
   ]
  },
  {
   "cell_type": "code",
   "execution_count": 219,
   "id": "258b6379",
   "metadata": {
    "hidden": true
   },
   "outputs": [],
   "source": [
    "K = np.max(points.uid)+1\n",
    "centroids = np.zeros((1, 2))\n",
    "for i in range(K):\n",
    "    region = points[points.uid==i][['east', 'north']].values\n",
    "    centroids = np.r_[centroids, [np.mean(region, axis=0)]]\n",
    "centroids = centroids[1:].copy()"
   ]
  },
  {
   "cell_type": "code",
   "execution_count": 214,
   "id": "95eeae01",
   "metadata": {
    "hidden": true
   },
   "outputs": [
    {
     "data": {
      "text/plain": [
       "(878, 2)"
      ]
     },
     "execution_count": 214,
     "metadata": {},
     "output_type": "execute_result"
    }
   ],
   "source": [
    "centroids.shape"
   ]
  },
  {
   "cell_type": "code",
   "execution_count": 220,
   "id": "5f643478",
   "metadata": {
    "hidden": true
   },
   "outputs": [
    {
     "data": {
      "text/plain": [
       "<matplotlib.collections.PathCollection at 0x24bfc55b220>"
      ]
     },
     "execution_count": 220,
     "metadata": {},
     "output_type": "execute_result"
    },
    {
     "data": {
      "image/png": "[encoded data removed]",
      "text/plain": [
       "<Figure size 640x480 with 1 Axes>"
      ]
     },
     "metadata": {},
     "output_type": "display_data"
    }
   ],
   "source": [
    "fig, ax = plt.subplots()\n",
    "ax.set_aspect('equal', 'box')\n",
    "ax.scatter(centroids[:,0], centroids[:,1], s=2)"
   ]
  },
  {
   "cell_type": "markdown",
   "id": "9e29b6eb",
   "metadata": {
    "heading_collapsed": true
   },
   "source": [
    "## Delaunay Triangulation"
   ]
  },
  {
   "cell_type": "code",
   "execution_count": 221,
   "id": "cc63cf5d",
   "metadata": {
    "hidden": true
   },
   "outputs": [],
   "source": [
    "atoms = nspl[['postcode', 'country', 'region', 'county', 'pcon', 'laua', 'north', 'east']].copy()\n",
    "\n",
    "areas = pd.DataFrame(atoms.values[:, 1:6]).drop_duplicates().reset_index(drop=True).reset_index()\n",
    "areas.columns = ['uid', 'country', 'region', 'county', 'pcon', 'laua']\n",
    "\n",
    "atom_ids = atoms.merge(areas, 'inner', ['country', 'region', 'county', 'pcon', 'laua'])\n",
    "points = atom_ids[['postcode', 'north', 'east', 'uid']].copy()\n",
    "\n",
    "coords = points[['east', 'north']].values.copy()\n",
    "\n",
    "from scipy.spatial import Delaunay"
   ]
  },
  {
   "cell_type": "code",
   "execution_count": 222,
   "id": "42ba4749",
   "metadata": {
    "hidden": true
   },
   "outputs": [],
   "source": [
    "#test = Delaunay(centroids)"
   ]
  },
  {
   "cell_type": "code",
   "execution_count": 224,
   "id": "ec5c063e",
   "metadata": {
    "collapsed": true,
    "hidden": true
   },
   "outputs": [
    {
     "data": {
      "text/plain": [
       "[<matplotlib.lines.Line2D at 0x24bfcdf2640>,\n",
       " <matplotlib.lines.Line2D at 0x24bfcdf2a90>]"
      ]
     },
     "execution_count": 224,
     "metadata": {},
     "output_type": "execute_result"
    },
    {
     "data": {
      "image/png": "[encoded data removed]",
      "text/plain": [
       "<Figure size 640x480 with 1 Axes>"
      ]
     },
     "metadata": {},
     "output_type": "display_data"
    }
   ],
   "source": [
    "#fig, ax = plt.subplots()\n",
    "#ax.set_aspect('equal', 'box')\n",
    "#ax.scatter(centroids[:,0], centroids[:,1], s=2)\n",
    "#plt.triplot(centroids[:,0], centroids[:,1], test.simplices)"
   ]
  },
  {
   "cell_type": "code",
   "execution_count": 236,
   "id": "53f21609",
   "metadata": {
    "hidden": true
   },
   "outputs": [],
   "source": [
    "tri = Delaunay(coords)"
   ]
  },
  {
   "cell_type": "code",
   "execution_count": 246,
   "id": "93c68501",
   "metadata": {
    "hidden": true
   },
   "outputs": [],
   "source": [
    "uid_dict = {i:j for i,j in np.c_[np.arange(N), points.uid.values]}\n",
    "assign_uid = np.vectorize(uid_dict.get)"
   ]
  },
  {
   "cell_type": "code",
   "execution_count": 250,
   "id": "9df8be2a",
   "metadata": {
    "hidden": true
   },
   "outputs": [],
   "source": [
    "#tri_ids = assign_uid(tri.simplices)"
   ]
  },
  {
   "cell_type": "code",
   "execution_count": 526,
   "id": "a28fa6b8",
   "metadata": {
    "hidden": true
   },
   "outputs": [],
   "source": [
    "'''List of simplices, with regions assigned to each corner'''\n",
    "#simplex_id = assign_uid(tri.simplices)"
   ]
  },
  {
   "cell_type": "code",
   "execution_count": null,
   "id": "38862c8e",
   "metadata": {
    "hidden": true
   },
   "outputs": [],
   "source": [
    "#internal_bool = np.all(simplex_id==simplex_id[:,0:1], axis=1)\n",
    "#boundary_bool = ~internal_bool\n",
    "#\n",
    "#bound_tris = simplex_id[boundary_bool]\n",
    "#bound_idxs = np.arange(len(simplex_id))[boundary_bool]"
   ]
  },
  {
   "cell_type": "code",
   "execution_count": 527,
   "id": "1a95ae79",
   "metadata": {
    "hidden": true
   },
   "outputs": [],
   "source": [
    "#bound_nbrs = tri.neighbors[border_bool]\n",
    "#\n",
    "#join_bool = np.isin(bound_nbrs, bound_idxs)\n",
    "#join_tris = np.c_[\n",
    "#    np.tile(bound_idxs, (3,1)).T[:,:,np.newaxis],\n",
    "#    bound_nbrs[:,:,np.newaxis]\n",
    "#][join_bool]"
   ]
  },
  {
   "cell_type": "code",
   "execution_count": 601,
   "id": "64b324b8",
   "metadata": {
    "hidden": true
   },
   "outputs": [],
   "source": [
    "#area_tris = np.c_[\n",
    "#    np.tile(bound_idxs, (3,1)).T[:,:,np.newaxis],\n",
    "#    bound_tris[:,:,np.newaxis]\n",
    "#].reshape((3*len(bound_idxs), 2))\n",
    "#\n",
    "#area_tris = area_tris[np.argsort(area_tris[:,1]),:].copy()\n",
    "#splits = np.nonzero(np.r_[0, np.diff(area_tris[:,1])[:-1]])[0]\n",
    "#boundaries = [np.sort(np.unique(arr)) for arr in np.split(area_tris[:,0], splits)]"
   ]
  },
  {
   "cell_type": "markdown",
   "id": "26c93bed",
   "metadata": {
    "hidden": true
   },
   "source": [
    "### Pairs...?"
   ]
  },
  {
   "cell_type": "code",
   "execution_count": 609,
   "id": "0e02a639",
   "metadata": {
    "hidden": true
   },
   "outputs": [],
   "source": [
    "#id_pairs = np.r_[bound_tris[:,[1,2]],bound_tris[:,[0,2]],bound_tris[:,[0,1]]]"
   ]
  },
  {
   "cell_type": "code",
   "execution_count": 626,
   "id": "77ef6516",
   "metadata": {
    "hidden": true
   },
   "outputs": [],
   "source": [
    "borders = bound_tris.copy()\n",
    "borders.sort(axis=1)\n",
    "\n",
    "triple_point = (borders[:,0]!=borders[:,1]) & (borders[:,1]!=borders[:,2])\n",
    "triple_tris = borders[triple_point].copy()\n",
    "double_tris = borders[~triple_point][:,[0,2]].copy()\n",
    "triple_idxs = bound_idxs[triple_point].copy()\n",
    "double_idxs = bound_idxs[~triple_point].copy()\n",
    "\n",
    "pair_tris = np.r_[double_tris, triple_tris[:,[1,2]], triple_tris[:,[0,2]], triple_tris[:,[0,1]]]\n",
    "pair_idxs = np.r_[double_idxs, triple_idxs, triple_idxs, triple_idxs]"
   ]
  },
  {
   "cell_type": "code",
   "execution_count": 785,
   "id": "7ed5e881",
   "metadata": {
    "hidden": true
   },
   "outputs": [],
   "source": [
    "pairs = np.c_[pair_tris, pair_idxs[:,np.newaxis]]\n",
    "pairs = pairs[pairs[:, 2].argsort()]\n",
    "pairs = pairs[pairs[:, 1].argsort(kind='mergesort')]\n",
    "pairs = pairs[pairs[:, 0].argsort(kind='mergesort')]\n",
    "lexico = 1000*pairs[:,0] + pairs[:,1]\n",
    "lexico_split = np.nonzero(np.r_[0, np.diff(lexico)[:-1]])[0]\n",
    "boundaries = np.split(pairs[:,2], lexico_split)\n",
    "region_indx = pairs[:,:2][lexico_split-1]"
   ]
  },
  {
   "cell_type": "code",
   "execution_count": 1093,
   "id": "2557f39c",
   "metadata": {
    "hidden": true
   },
   "outputs": [],
   "source": [
    "border_idx = 1038\n",
    "\n",
    "def produce_border(border_idx):\n",
    "\n",
    "    test_tris = tri.simplices[boundaries[border_idx]]\n",
    "    area_pair = region_indx[border_idx]\n",
    "\n",
    "    all_edges = np.c_[test_tris, test_tris].reshape((len(test_tris), 3, 2))\n",
    "    all_tris  = np.rollaxis(np.tile(boundaries[border_idx], (3, 2, 1)), 2)\n",
    "    edge_uids = assign_uid(all_edges)\n",
    "\n",
    "    medial_a   = np.any(edge_uids==area_pair[0], axis=2)\n",
    "    medial_b   = np.any(edge_uids==area_pair[1], axis=2)\n",
    "    medial_bool = medial_a & medial_b\n",
    "\n",
    "    aug_edges = np.c_[all_edges[:,:,:,np.newaxis], all_tris[:,:,:,np.newaxis]]\n",
    "    aug_medial_edges = np.c_[aug_edges[medial_bool][:,:,0], aug_edges[medial_bool][:,:1,1]]\n",
    "    aug_medial_edges[:,:2].sort(axis=1)\n",
    "\n",
    "    aug_a = aug_medial_edges.copy()\n",
    "    aug_b = aug_a.copy()\n",
    "\n",
    "    aug_a = aug_a[aug_a[:, 2].argsort()]\n",
    "    aug_b = aug_b[aug_b[:, 2].argsort()[::-1]]\n",
    "    aug_a = aug_a[aug_a[:, 1].argsort(kind='mergesort')]\n",
    "    aug_b = aug_b[aug_b[:, 1].argsort(kind='mergesort')]\n",
    "    aug_a = aug_a[aug_a[:, 0].argsort(kind='mergesort')]\n",
    "    aug_b = aug_b[aug_b[:, 0].argsort(kind='mergesort')]\n",
    "\n",
    "    aug_a = np.c_[aug_a, aug_b[:,2]]\n",
    "    aug_a[:,2:].sort()\n",
    "    _, idx = np.unique(aug_a, return_index=True, axis=0)\n",
    "    aug_a = aug_a[np.sort(idx)]\n",
    "    \n",
    "    start_tri = boundaries[border_idx][np.unique(aug_a[:,2:4], return_counts=True)[1]==1][0]\n",
    "\n",
    "    tri_path = [start_tri]\n",
    "    current = start_tri\n",
    "    while True:\n",
    "        nbrs = aug_a[np.any(aug_a[:,2:]==current, axis=1)][:,2:]\n",
    "        nbrs = [i for i in nbrs.flatten() if i != current]\n",
    "        if nbrs[0] not in tri_path:\n",
    "            current = nbrs[0]\n",
    "        elif len(nbrs)==1:\n",
    "            break\n",
    "        elif nbrs[1] not in tri_path:\n",
    "            current = nbrs[1]\n",
    "        else:\n",
    "            break\n",
    "        tri_path += [current]\n",
    "        \n",
    "    edge_lookup = np.c_[np.array(tri_path)[:-1], np.array(tri_path)[1:]]\n",
    "    edge_lookup.sort(axis=1)\n",
    "\n",
    "    _, inv = np.unique(edge_lookup, return_inverse=True, axis=0)\n",
    "    _, idx = np.unique(aug_a[:,2:], return_index=True, axis=0)\n",
    "    aug_a = aug_a[np.sort(idx)]\n",
    "\n",
    "    medial_edges = aug_a[idx][inv][:,:2].copy()\n",
    "    medial_coords = np.mean(coords[medial_edges], axis=1)\n",
    "    \n",
    "    return medial_coords"
   ]
  },
  {
   "cell_type": "code",
   "execution_count": 1092,
   "id": "21e40f86",
   "metadata": {
    "hidden": true
   },
   "outputs": [
    {
     "data": {
      "text/plain": [
       "[<matplotlib.lines.Line2D at 0x24bef24c130>]"
      ]
     },
     "execution_count": 1092,
     "metadata": {},
     "output_type": "execute_result"
    },
    {
     "data": {
      "image/png": "[encoded data removed]",
      "text/plain": [
       "<Figure size 640x480 with 1 Axes>"
      ]
     },
     "metadata": {},
     "output_type": "display_data"
    }
   ],
   "source": [
    "region_0 = points[points.uid==area_pair[0]][['east', 'north']].values\n",
    "region_1 = points[points.uid==area_pair[1]][['east', 'north']].values\n",
    "\n",
    "fig, ax = plt.subplots()\n",
    "ax.set_aspect('equal', 'box')\n",
    "plt.scatter(region_0[:,0], region_0[:,1], s=1)\n",
    "plt.scatter(region_1[:,0], region_1[:,1], s=1)\n",
    "plt.plot(medial_coords[:,0], medial_coords[:,1], color='navy', linewidth=2)"
   ]
  },
  {
   "cell_type": "markdown",
   "id": "062de96b",
   "metadata": {},
   "source": [
    "## Be Brave - Delaunay Pairwise Borders"
   ]
  },
  {
   "cell_type": "code",
   "execution_count": 1,
   "id": "bcbf7fef",
   "metadata": {},
   "outputs": [],
   "source": [
    "import pandas as pd\n",
    "import numpy as np\n",
    "\n",
    "from scipy.spatial import Delaunay"
   ]
  },
  {
   "cell_type": "code",
   "execution_count": 4,
   "id": "23b3c716",
   "metadata": {},
   "outputs": [],
   "source": [
    "nspl = pd.read_csv('NSPL_Matt.csv')"
   ]
  },
  {
   "cell_type": "code",
   "execution_count": 5,
   "id": "b2f571c7",
   "metadata": {},
   "outputs": [],
   "source": [
    "atoms = nspl[['postcode', 'country', 'region', 'county', 'pcon', 'laua', 'north', 'east']].copy()\n",
    "areas = pd.DataFrame(atoms.values[:, 1:6]).drop_duplicates().reset_index(drop=True).reset_index()\n",
    "areas.columns = ['uid', 'country', 'region', 'county', 'pcon', 'laua']\n",
    "atom_ids = atoms.merge(areas, 'inner', ['country', 'region', 'county', 'pcon', 'laua'])\n",
    "points = atom_ids[['postcode', 'north', 'east', 'uid']].copy()\n",
    "coords = points[['east', 'north']].values.copy()\n",
    "\n",
    "uid_dict = {i:j for i,j in np.c_[np.arange(len(points)), points.uid.values]}\n",
    "assign_uid = np.vectorize(uid_dict.get)"
   ]
  },
  {
   "cell_type": "code",
   "execution_count": 6,
   "id": "1c7f78c0",
   "metadata": {},
   "outputs": [],
   "source": [
    "tri = Delaunay(coords)"
   ]
  },
  {
   "cell_type": "code",
   "execution_count": 46,
   "id": "8d337e93",
   "metadata": {},
   "outputs": [],
   "source": [
    "simplex_id = assign_uid(tri.simplices)\n",
    "internal_bool = np.all(simplex_id==simplex_id[:,0:1], axis=1)\n",
    "boundary_bool = ~internal_bool\n",
    "\n",
    "borders = simplex_id[boundary_bool]\n",
    "borders.sort(axis=1)\n",
    "bound_idxs = np.arange(len(simplex_id))[boundary_bool]\n",
    "\n",
    "triple_point = (borders[:,0]!=borders[:,1]) & (borders[:,1]!=borders[:,2])\n",
    "triple_tris = borders[triple_point].copy()\n",
    "double_tris = borders[~triple_point][:,[0,2]].copy()\n",
    "triple_idxs = bound_idxs[triple_point].copy()\n",
    "double_idxs = bound_idxs[~triple_point].copy()\n",
    "\n",
    "pair_tris = np.r_[double_tris, triple_tris[:,[1,2]], triple_tris[:,[0,2]], triple_tris[:,[0,1]]]\n",
    "pair_idxs = np.r_[double_idxs, triple_idxs, triple_idxs, triple_idxs]\n",
    "\n",
    "pairs = np.c_[pair_tris, pair_idxs[:,np.newaxis]]\n",
    "pairs = pairs[pairs[:, 2].argsort()]\n",
    "pairs = pairs[pairs[:, 1].argsort(kind='mergesort')]\n",
    "pairs = pairs[pairs[:, 0].argsort(kind='mergesort')]\n",
    "lexico = 1000*pairs[:,0] + pairs[:,1]\n",
    "lexico_split = np.nonzero(np.r_[0, np.diff(lexico)[:-1]])[0]\n",
    "boundaries = np.split(pairs[:,2], lexico_split)\n",
    "region_indx = np.r_[pairs[:,:2][lexico_split-1], pairs[-1:,:2]]"
   ]
  },
  {
   "cell_type": "code",
   "execution_count": 78,
   "id": "287a81b0",
   "metadata": {},
   "outputs": [],
   "source": [
    "def produce_border(border_idx):\n",
    "\n",
    "    test_tris = tri.simplices[boundaries[border_idx]]\n",
    "    area_pair = region_indx[border_idx]\n",
    "\n",
    "    all_edges = np.c_[test_tris, test_tris].reshape((len(test_tris), 3, 2))\n",
    "    all_tris  = np.rollaxis(np.tile(boundaries[border_idx], (3, 2, 1)), 2)\n",
    "    edge_uids = assign_uid(all_edges)\n",
    "\n",
    "    medial_a   = np.any(edge_uids==area_pair[0], axis=2)\n",
    "    medial_b   = np.any(edge_uids==area_pair[1], axis=2)\n",
    "    medial_bool = medial_a & medial_b\n",
    "\n",
    "    aug_edges = np.c_[all_edges[:,:,:,np.newaxis], all_tris[:,:,:,np.newaxis]]\n",
    "    aug_medial_edges = np.c_[aug_edges[medial_bool][:,:,0], aug_edges[medial_bool][:,:1,1]]\n",
    "    aug_medial_edges[:,:2].sort(axis=1)\n",
    "\n",
    "    aug_a = aug_medial_edges.copy()\n",
    "    aug_b = aug_a.copy()\n",
    "\n",
    "    aug_a = aug_a[aug_a[:, 2].argsort()]\n",
    "    aug_b = aug_b[aug_b[:, 2].argsort()[::-1]]\n",
    "    aug_a = aug_a[aug_a[:, 1].argsort(kind='mergesort')]\n",
    "    aug_b = aug_b[aug_b[:, 1].argsort(kind='mergesort')]\n",
    "    aug_a = aug_a[aug_a[:, 0].argsort(kind='mergesort')]\n",
    "    aug_b = aug_b[aug_b[:, 0].argsort(kind='mergesort')]\n",
    "\n",
    "    aug_a = np.c_[aug_a, aug_b[:,2]]\n",
    "    aug_a[:,2:].sort()\n",
    "    _, idx = np.unique(aug_a, return_index=True, axis=0)\n",
    "    aug_a = aug_a[np.sort(idx)]\n",
    "    \n",
    "    simplex_list = list(boundaries[border_idx].copy())\n",
    "    coords_list  = []\n",
    "    while len(simplex_list)>0:\n",
    "        \n",
    "        simplex_bool = np.isin(aug_a[:,2:], np.array(simplex_list))\n",
    "        unq, counts = np.unique(aug_a[:,2:][simplex_bool], return_counts=True)\n",
    "        adjacent = unq[counts==1]\n",
    "        \n",
    "        if len(adjacent)>0:\n",
    "            start_tri = adjacent[0]\n",
    "        else:\n",
    "            start_tri = unq[0]\n",
    "\n",
    "        tri_path = [start_tri]\n",
    "        current = start_tri\n",
    "        while True:\n",
    "            nbrs = aug_a[np.any(aug_a[:,2:]==current, axis=1)][:,2:]\n",
    "            nbrs = [i for i in nbrs.flatten() if i != current]\n",
    "            if len(nbrs)==0:\n",
    "                break\n",
    "            elif nbrs[0] not in tri_path:\n",
    "                current = nbrs[0]\n",
    "            elif len(nbrs)==1:\n",
    "                break\n",
    "            elif nbrs[1] not in tri_path:\n",
    "                current = nbrs[1]\n",
    "            else:\n",
    "                break\n",
    "            tri_path += [current]\n",
    "\n",
    "        #assert np.all(np.isin(np.unique(aug_a[:,2:]), np.array(tri_path)))\n",
    "\n",
    "        edge_lookup = np.c_[np.array(tri_path)[:-1], np.array(tri_path)[1:]]\n",
    "        edge_lookup.sort(axis=1)\n",
    "\n",
    "        _, inv = np.unique(edge_lookup, return_inverse=True, axis=0)\n",
    "        hits, idx = np.unique(aug_a[:,2:], return_index=True, axis=0)\n",
    "        aug_a = aug_a[np.sort(idx)]\n",
    "\n",
    "        medial_edges = aug_a[idx][inv][:,:2].copy()\n",
    "        medial_coords = np.mean(coords[medial_edges], axis=1)\n",
    "        \n",
    "        coords_list += [medial_coords]\n",
    "        simplex_list = [i for i in simplex_list if i not in hits]        \n",
    "\n",
    "    return coords_list"
   ]
  },
  {
   "cell_type": "code",
   "execution_count": 11,
   "id": "30c8a653",
   "metadata": {},
   "outputs": [],
   "source": [
    "border_indx = 0"
   ]
  },
  {
   "cell_type": "code",
   "execution_count": 12,
   "id": "9b0a038c",
   "metadata": {},
   "outputs": [],
   "source": [
    "medial_coords = produce_border(border_indx)\n",
    "region_0 = points[points.uid==region_indx[border_indx][0]][['east', 'north']].values\n",
    "region_1 = points[points.uid==region_indx[border_indx][1]][['east', 'north']].values"
   ]
  },
  {
   "cell_type": "code",
   "execution_count": 14,
   "id": "179906c8",
   "metadata": {},
   "outputs": [
    {
     "data": {
      "text/plain": [
       "[<matplotlib.lines.Line2D at 0x22e2e0f8310>]"
      ]
     },
     "execution_count": 14,
     "metadata": {},
     "output_type": "execute_result"
    },
    {
     "data": {
      "image/png": "[encoded data removed]",
      "text/plain": [
       "<Figure size 640x480 with 1 Axes>"
      ]
     },
     "metadata": {},
     "output_type": "display_data"
    }
   ],
   "source": [
    "import matplotlib as mpl\n",
    "import matplotlib.pyplot as plt\n",
    "\n",
    "fig, ax = plt.subplots()\n",
    "ax.set_aspect('equal', 'box')\n",
    "plt.scatter(region_0[:,0], region_0[:,1], s=1)\n",
    "plt.scatter(region_1[:,0], region_1[:,1], s=1)\n",
    "plt.plot(medial_coords[:,0], medial_coords[:,1], color='navy', linewidth=2)"
   ]
  },
  {
   "cell_type": "code",
   "execution_count": 447,
   "id": "d78560e6",
   "metadata": {},
   "outputs": [
    {
     "ename": "ValueError",
     "evalue": "cannot call `vectorize` on size 0 inputs unless `otypes` is set",
     "output_type": "error",
     "traceback": [
      "\u001b[1;31m---------------------------------------------------------------------------\u001b[0m",
      "\u001b[1;31mValueError\u001b[0m                                Traceback (most recent call last)",
      "\u001b[1;32m~\\AppData\\Local\\Temp\\ipykernel_14404\\2101355957.py\u001b[0m in \u001b[0;36m<module>\u001b[1;34m\u001b[0m\n\u001b[1;32m----> 1\u001b[1;33m \u001b[0mborderlines\u001b[0m \u001b[1;33m=\u001b[0m \u001b[1;33m[\u001b[0m\u001b[0mproduce_border\u001b[0m\u001b[1;33m(\u001b[0m\u001b[0mi\u001b[0m\u001b[1;33m)\u001b[0m \u001b[1;32mfor\u001b[0m \u001b[0mi\u001b[0m \u001b[1;32min\u001b[0m \u001b[0mrange\u001b[0m\u001b[1;33m(\u001b[0m\u001b[0mlen\u001b[0m\u001b[1;33m(\u001b[0m\u001b[0mboundaries\u001b[0m\u001b[1;33m)\u001b[0m\u001b[1;33m)\u001b[0m\u001b[1;33m]\u001b[0m\u001b[1;33m\u001b[0m\u001b[1;33m\u001b[0m\u001b[0m\n\u001b[0m\u001b[0;32m      2\u001b[0m \u001b[0mK\u001b[0m \u001b[1;33m=\u001b[0m \u001b[0mmax\u001b[0m\u001b[1;33m(\u001b[0m\u001b[0mpoints\u001b[0m\u001b[1;33m.\u001b[0m\u001b[0muid\u001b[0m\u001b[1;33m)\u001b[0m\u001b[1;33m\u001b[0m\u001b[1;33m\u001b[0m\u001b[0m\n\u001b[0;32m      3\u001b[0m \u001b[0marea_borders\u001b[0m \u001b[1;33m=\u001b[0m \u001b[1;33m{\u001b[0m\u001b[1;33m}\u001b[0m\u001b[1;33m\u001b[0m\u001b[1;33m\u001b[0m\u001b[0m\n\u001b[0;32m      4\u001b[0m \u001b[1;32mfor\u001b[0m \u001b[0mindx\u001b[0m \u001b[1;32min\u001b[0m \u001b[0mrange\u001b[0m\u001b[1;33m(\u001b[0m\u001b[0mK\u001b[0m\u001b[1;33m)\u001b[0m\u001b[1;33m:\u001b[0m\u001b[1;33m\u001b[0m\u001b[1;33m\u001b[0m\u001b[0m\n\u001b[0;32m      5\u001b[0m     \u001b[0mindxs\u001b[0m \u001b[1;33m=\u001b[0m \u001b[0mnp\u001b[0m\u001b[1;33m.\u001b[0m\u001b[0marange\u001b[0m\u001b[1;33m(\u001b[0m\u001b[0mlen\u001b[0m\u001b[1;33m(\u001b[0m\u001b[0mregion_indx\u001b[0m\u001b[1;33m)\u001b[0m\u001b[1;33m)\u001b[0m\u001b[1;33m[\u001b[0m\u001b[0mnp\u001b[0m\u001b[1;33m.\u001b[0m\u001b[0many\u001b[0m\u001b[1;33m(\u001b[0m\u001b[0mregion_indx\u001b[0m\u001b[1;33m==\u001b[0m\u001b[0mindx\u001b[0m\u001b[1;33m,\u001b[0m \u001b[0maxis\u001b[0m\u001b[1;33m=\u001b[0m\u001b[1;36m1\u001b[0m\u001b[1;33m)\u001b[0m\u001b[1;33m]\u001b[0m\u001b[1;33m\u001b[0m\u001b[1;33m\u001b[0m\u001b[0m\n",
      "\u001b[1;32m~\\AppData\\Local\\Temp\\ipykernel_14404\\2101355957.py\u001b[0m in \u001b[0;36m<listcomp>\u001b[1;34m(.0)\u001b[0m\n\u001b[1;32m----> 1\u001b[1;33m \u001b[0mborderlines\u001b[0m \u001b[1;33m=\u001b[0m \u001b[1;33m[\u001b[0m\u001b[0mproduce_border\u001b[0m\u001b[1;33m(\u001b[0m\u001b[0mi\u001b[0m\u001b[1;33m)\u001b[0m \u001b[1;32mfor\u001b[0m \u001b[0mi\u001b[0m \u001b[1;32min\u001b[0m \u001b[0mrange\u001b[0m\u001b[1;33m(\u001b[0m\u001b[0mlen\u001b[0m\u001b[1;33m(\u001b[0m\u001b[0mboundaries\u001b[0m\u001b[1;33m)\u001b[0m\u001b[1;33m)\u001b[0m\u001b[1;33m]\u001b[0m\u001b[1;33m\u001b[0m\u001b[1;33m\u001b[0m\u001b[0m\n\u001b[0m\u001b[0;32m      2\u001b[0m \u001b[0mK\u001b[0m \u001b[1;33m=\u001b[0m \u001b[0mmax\u001b[0m\u001b[1;33m(\u001b[0m\u001b[0mpoints\u001b[0m\u001b[1;33m.\u001b[0m\u001b[0muid\u001b[0m\u001b[1;33m)\u001b[0m\u001b[1;33m\u001b[0m\u001b[1;33m\u001b[0m\u001b[0m\n\u001b[0;32m      3\u001b[0m \u001b[0marea_borders\u001b[0m \u001b[1;33m=\u001b[0m \u001b[1;33m{\u001b[0m\u001b[1;33m}\u001b[0m\u001b[1;33m\u001b[0m\u001b[1;33m\u001b[0m\u001b[0m\n\u001b[0;32m      4\u001b[0m \u001b[1;32mfor\u001b[0m \u001b[0mindx\u001b[0m \u001b[1;32min\u001b[0m \u001b[0mrange\u001b[0m\u001b[1;33m(\u001b[0m\u001b[0mK\u001b[0m\u001b[1;33m)\u001b[0m\u001b[1;33m:\u001b[0m\u001b[1;33m\u001b[0m\u001b[1;33m\u001b[0m\u001b[0m\n\u001b[0;32m      5\u001b[0m     \u001b[0mindxs\u001b[0m \u001b[1;33m=\u001b[0m \u001b[0mnp\u001b[0m\u001b[1;33m.\u001b[0m\u001b[0marange\u001b[0m\u001b[1;33m(\u001b[0m\u001b[0mlen\u001b[0m\u001b[1;33m(\u001b[0m\u001b[0mregion_indx\u001b[0m\u001b[1;33m)\u001b[0m\u001b[1;33m)\u001b[0m\u001b[1;33m[\u001b[0m\u001b[0mnp\u001b[0m\u001b[1;33m.\u001b[0m\u001b[0many\u001b[0m\u001b[1;33m(\u001b[0m\u001b[0mregion_indx\u001b[0m\u001b[1;33m==\u001b[0m\u001b[0mindx\u001b[0m\u001b[1;33m,\u001b[0m \u001b[0maxis\u001b[0m\u001b[1;33m=\u001b[0m\u001b[1;36m1\u001b[0m\u001b[1;33m)\u001b[0m\u001b[1;33m]\u001b[0m\u001b[1;33m\u001b[0m\u001b[1;33m\u001b[0m\u001b[0m\n",
      "\u001b[1;32m~\\AppData\\Local\\Temp\\ipykernel_14404\\1902845997.py\u001b[0m in \u001b[0;36mproduce_border\u001b[1;34m(border_idx)\u001b[0m\n\u001b[0;32m     77\u001b[0m         \u001b[0mhits\u001b[0m\u001b[1;33m,\u001b[0m \u001b[0midx\u001b[0m \u001b[1;33m=\u001b[0m \u001b[0mnp\u001b[0m\u001b[1;33m.\u001b[0m\u001b[0munique\u001b[0m\u001b[1;33m(\u001b[0m\u001b[0maug_a\u001b[0m\u001b[1;33m[\u001b[0m\u001b[1;33m:\u001b[0m\u001b[1;33m,\u001b[0m\u001b[1;36m2\u001b[0m\u001b[1;33m:\u001b[0m\u001b[1;33m]\u001b[0m\u001b[1;33m,\u001b[0m \u001b[0mreturn_index\u001b[0m\u001b[1;33m=\u001b[0m\u001b[1;32mTrue\u001b[0m\u001b[1;33m,\u001b[0m \u001b[0maxis\u001b[0m\u001b[1;33m=\u001b[0m\u001b[1;36m0\u001b[0m\u001b[1;33m)\u001b[0m\u001b[1;33m\u001b[0m\u001b[1;33m\u001b[0m\u001b[0m\n\u001b[0;32m     78\u001b[0m \u001b[1;33m\u001b[0m\u001b[0m\n\u001b[1;32m---> 79\u001b[1;33m         \u001b[0mmissing_idxs\u001b[0m \u001b[1;33m=\u001b[0m \u001b[0mnp\u001b[0m\u001b[1;33m.\u001b[0m\u001b[0marange\u001b[0m\u001b[1;33m(\u001b[0m\u001b[0mlen\u001b[0m\u001b[1;33m(\u001b[0m\u001b[0mhits\u001b[0m\u001b[1;33m)\u001b[0m\u001b[1;33m)\u001b[0m\u001b[1;33m[\u001b[0m\u001b[0mrow_inclusion\u001b[0m\u001b[1;33m(\u001b[0m\u001b[0mhits\u001b[0m\u001b[1;33m,\u001b[0m \u001b[0munqe\u001b[0m\u001b[1;33m)\u001b[0m\u001b[1;33m]\u001b[0m\u001b[1;33m\u001b[0m\u001b[1;33m\u001b[0m\u001b[0m\n\u001b[0m\u001b[0;32m     80\u001b[0m         \u001b[0midx_dict\u001b[0m \u001b[1;33m=\u001b[0m \u001b[1;33m{\u001b[0m\u001b[0mi\u001b[0m\u001b[1;33m:\u001b[0m\u001b[0mmissing_idxs\u001b[0m\u001b[1;33m[\u001b[0m\u001b[0mi\u001b[0m\u001b[1;33m]\u001b[0m \u001b[1;32mfor\u001b[0m \u001b[0mi\u001b[0m \u001b[1;32min\u001b[0m \u001b[0mrange\u001b[0m\u001b[1;33m(\u001b[0m\u001b[0mlen\u001b[0m\u001b[1;33m(\u001b[0m\u001b[0munqe\u001b[0m\u001b[1;33m)\u001b[0m\u001b[1;33m)\u001b[0m\u001b[1;33m}\u001b[0m\u001b[1;33m\u001b[0m\u001b[1;33m\u001b[0m\u001b[0m\n\u001b[0;32m     81\u001b[0m         \u001b[0mmatch_idx\u001b[0m \u001b[1;33m=\u001b[0m \u001b[0mnp\u001b[0m\u001b[1;33m.\u001b[0m\u001b[0mvectorize\u001b[0m\u001b[1;33m(\u001b[0m\u001b[1;32mlambda\u001b[0m \u001b[0mx\u001b[0m\u001b[1;33m:\u001b[0m \u001b[0midx_dict\u001b[0m\u001b[1;33m.\u001b[0m\u001b[0mget\u001b[0m\u001b[1;33m(\u001b[0m\u001b[0mx\u001b[0m\u001b[1;33m,\u001b[0m \u001b[1;32mNone\u001b[0m\u001b[1;33m)\u001b[0m\u001b[1;33m)\u001b[0m\u001b[1;33m\u001b[0m\u001b[1;33m\u001b[0m\u001b[0m\n",
      "\u001b[1;32m~\\AppData\\Local\\Temp\\ipykernel_14404\\1902845997.py\u001b[0m in \u001b[0;36mrow_inclusion\u001b[1;34m(np_a, np_b)\u001b[0m\n\u001b[0;32m      5\u001b[0m \u001b[1;33m\u001b[0m\u001b[0m\n\u001b[0;32m      6\u001b[0m \u001b[1;32mdef\u001b[0m \u001b[0mrow_inclusion\u001b[0m\u001b[1;33m(\u001b[0m\u001b[0mnp_a\u001b[0m\u001b[1;33m,\u001b[0m \u001b[0mnp_b\u001b[0m\u001b[1;33m)\u001b[0m\u001b[1;33m:\u001b[0m\u001b[1;33m\u001b[0m\u001b[1;33m\u001b[0m\u001b[0m\n\u001b[1;32m----> 7\u001b[1;33m     \u001b[1;32mreturn\u001b[0m \u001b[0mnp\u001b[0m\u001b[1;33m.\u001b[0m\u001b[0misin\u001b[0m\u001b[1;33m(\u001b[0m\u001b[0mlpad_np\u001b[0m\u001b[1;33m(\u001b[0m\u001b[0mnp_a\u001b[0m\u001b[1;33m)\u001b[0m\u001b[1;33m,\u001b[0m \u001b[0mlpad_np\u001b[0m\u001b[1;33m(\u001b[0m\u001b[0mnp_b\u001b[0m\u001b[1;33m)\u001b[0m\u001b[1;33m)\u001b[0m\u001b[1;33m\u001b[0m\u001b[1;33m\u001b[0m\u001b[0m\n\u001b[0m\u001b[0;32m      8\u001b[0m \u001b[1;33m\u001b[0m\u001b[0m\n\u001b[0;32m      9\u001b[0m \u001b[1;33m\u001b[0m\u001b[0m\n",
      "\u001b[1;32m~\\anaconda3\\lib\\site-packages\\numpy\\lib\\function_base.py\u001b[0m in \u001b[0;36m__call__\u001b[1;34m(self, *args, **kwargs)\u001b[0m\n\u001b[0;32m   2161\u001b[0m             \u001b[0mvargs\u001b[0m\u001b[1;33m.\u001b[0m\u001b[0mextend\u001b[0m\u001b[1;33m(\u001b[0m\u001b[1;33m[\u001b[0m\u001b[0mkwargs\u001b[0m\u001b[1;33m[\u001b[0m\u001b[0m_n\u001b[0m\u001b[1;33m]\u001b[0m \u001b[1;32mfor\u001b[0m \u001b[0m_n\u001b[0m \u001b[1;32min\u001b[0m \u001b[0mnames\u001b[0m\u001b[1;33m]\u001b[0m\u001b[1;33m)\u001b[0m\u001b[1;33m\u001b[0m\u001b[1;33m\u001b[0m\u001b[0m\n\u001b[0;32m   2162\u001b[0m \u001b[1;33m\u001b[0m\u001b[0m\n\u001b[1;32m-> 2163\u001b[1;33m         \u001b[1;32mreturn\u001b[0m \u001b[0mself\u001b[0m\u001b[1;33m.\u001b[0m\u001b[0m_vectorize_call\u001b[0m\u001b[1;33m(\u001b[0m\u001b[0mfunc\u001b[0m\u001b[1;33m=\u001b[0m\u001b[0mfunc\u001b[0m\u001b[1;33m,\u001b[0m \u001b[0margs\u001b[0m\u001b[1;33m=\u001b[0m\u001b[0mvargs\u001b[0m\u001b[1;33m)\u001b[0m\u001b[1;33m\u001b[0m\u001b[1;33m\u001b[0m\u001b[0m\n\u001b[0m\u001b[0;32m   2164\u001b[0m \u001b[1;33m\u001b[0m\u001b[0m\n\u001b[0;32m   2165\u001b[0m     \u001b[1;32mdef\u001b[0m \u001b[0m_get_ufunc_and_otypes\u001b[0m\u001b[1;33m(\u001b[0m\u001b[0mself\u001b[0m\u001b[1;33m,\u001b[0m \u001b[0mfunc\u001b[0m\u001b[1;33m,\u001b[0m \u001b[0margs\u001b[0m\u001b[1;33m)\u001b[0m\u001b[1;33m:\u001b[0m\u001b[1;33m\u001b[0m\u001b[1;33m\u001b[0m\u001b[0m\n",
      "\u001b[1;32m~\\anaconda3\\lib\\site-packages\\numpy\\lib\\function_base.py\u001b[0m in \u001b[0;36m_vectorize_call\u001b[1;34m(self, func, args)\u001b[0m\n\u001b[0;32m   2235\u001b[0m         \u001b[1;34m\"\"\"Vectorized call to `func` over positional `args`.\"\"\"\u001b[0m\u001b[1;33m\u001b[0m\u001b[1;33m\u001b[0m\u001b[0m\n\u001b[0;32m   2236\u001b[0m         \u001b[1;32mif\u001b[0m \u001b[0mself\u001b[0m\u001b[1;33m.\u001b[0m\u001b[0msignature\u001b[0m \u001b[1;32mis\u001b[0m \u001b[1;32mnot\u001b[0m \u001b[1;32mNone\u001b[0m\u001b[1;33m:\u001b[0m\u001b[1;33m\u001b[0m\u001b[1;33m\u001b[0m\u001b[0m\n\u001b[1;32m-> 2237\u001b[1;33m             \u001b[0mres\u001b[0m \u001b[1;33m=\u001b[0m \u001b[0mself\u001b[0m\u001b[1;33m.\u001b[0m\u001b[0m_vectorize_call_with_signature\u001b[0m\u001b[1;33m(\u001b[0m\u001b[0mfunc\u001b[0m\u001b[1;33m,\u001b[0m \u001b[0margs\u001b[0m\u001b[1;33m)\u001b[0m\u001b[1;33m\u001b[0m\u001b[1;33m\u001b[0m\u001b[0m\n\u001b[0m\u001b[0;32m   2238\u001b[0m         \u001b[1;32melif\u001b[0m \u001b[1;32mnot\u001b[0m \u001b[0margs\u001b[0m\u001b[1;33m:\u001b[0m\u001b[1;33m\u001b[0m\u001b[1;33m\u001b[0m\u001b[0m\n\u001b[0;32m   2239\u001b[0m             \u001b[0mres\u001b[0m \u001b[1;33m=\u001b[0m \u001b[0mfunc\u001b[0m\u001b[1;33m(\u001b[0m\u001b[1;33m)\u001b[0m\u001b[1;33m\u001b[0m\u001b[1;33m\u001b[0m\u001b[0m\n",
      "\u001b[1;32m~\\anaconda3\\lib\\site-packages\\numpy\\lib\\function_base.py\u001b[0m in \u001b[0;36m_vectorize_call_with_signature\u001b[1;34m(self, func, args)\u001b[0m\n\u001b[0;32m   2303\u001b[0m             \u001b[1;31m# did not call the function even once\u001b[0m\u001b[1;33m\u001b[0m\u001b[1;33m\u001b[0m\u001b[0m\n\u001b[0;32m   2304\u001b[0m             \u001b[1;32mif\u001b[0m \u001b[0motypes\u001b[0m \u001b[1;32mis\u001b[0m \u001b[1;32mNone\u001b[0m\u001b[1;33m:\u001b[0m\u001b[1;33m\u001b[0m\u001b[1;33m\u001b[0m\u001b[0m\n\u001b[1;32m-> 2305\u001b[1;33m                 raise ValueError('cannot call `vectorize` on size 0 inputs '\n\u001b[0m\u001b[0;32m   2306\u001b[0m                                  'unless `otypes` is set')\n\u001b[0;32m   2307\u001b[0m             if builtins.any(dim not in dim_sizes\n",
      "\u001b[1;31mValueError\u001b[0m: cannot call `vectorize` on size 0 inputs unless `otypes` is set"
     ]
    }
   ],
   "source": [
    "borderlines = [produce_border(i) for i in range(len(boundaries))]\n",
    "K = max(points.uid)\n",
    "area_borders = {}\n",
    "for indx in range(K):\n",
    "    indxs = np.arange(len(region_indx))[np.any(region_indx==indx, axis=1)]\n",
    "    collect = []\n",
    "    for j in indxs:\n",
    "        collect += borderlines[j]\n",
    "    area_borders[indx] = collect"
   ]
  },
  {
   "cell_type": "code",
   "execution_count": null,
   "id": "f3cfae9a",
   "metadata": {},
   "outputs": [],
   "source": [
    "def stitch(border_list):"
   ]
  },
  {
   "cell_type": "code",
   "execution_count": 74,
   "id": "0917a287",
   "metadata": {},
   "outputs": [],
   "source": [
    "test_list = area_borders[0]"
   ]
  },
  {
   "cell_type": "code",
   "execution_count": 197,
   "id": "202c8db2",
   "metadata": {},
   "outputs": [
    {
     "name": "stdout",
     "output_type": "stream",
     "text": [
      "1\n",
      "[179]\n"
     ]
    },
    {
     "data": {
      "image/png": "[encoded data removed]",
      "text/plain": [
       "<Figure size 640x480 with 1 Axes>"
      ]
     },
     "metadata": {},
     "output_type": "display_data"
    }
   ],
   "source": [
    "border_indx = 2\n",
    "region_0 = points[points.uid==region_indx[border_indx][0]][['east', 'north']].values\n",
    "region_1 = points[points.uid==region_indx[border_indx][1]][['east', 'north']].values\n",
    "\n",
    "fig, ax = plt.subplots()\n",
    "ax.set_aspect('equal', 'box')\n",
    "plt.scatter(region_0[:,0], region_0[:,1], s=1)\n",
    "plt.scatter(region_1[:,0], region_1[:,1], s=1)\n",
    "print(len(borderlines[border_indx]))\n",
    "print([len(arr) for arr in borderlines[border_indx]])\n",
    "for medial_coords in borderlines[border_indx][:]:\n",
    "    plt.plot(medial_coords[:,0], medial_coords[:,1], color='navy', linewidth=2)"
   ]
  },
  {
   "cell_type": "code",
   "execution_count": null,
   "id": "fb6f2aef",
   "metadata": {},
   "outputs": [],
   "source": [
    "unseen = [\n",
    "    5,\n",
    "    32,\n",
    "    33,\n",
    "    34,\n",
    "    35,\n",
    "    49,\n",
    "    66\n",
    "]\n",
    "\n",
    "weird = [\n",
    "    9,\n",
    "    70,\n",
    "]\n",
    "\n",
    "terrible_border_list = [\n",
    "    2,\n",
    "    8,\n",
    "    17,\n",
    "    20,\n",
    "    21,\n",
    "    28,\n",
    "    38,\n",
    "    48,\n",
    "    55,\n",
    "    57,\n",
    "    59,\n",
    "    60,\n",
    "    69,\n",
    "    79,\n",
    "    93\n",
    "]"
   ]
  },
  {
   "cell_type": "code",
   "execution_count": 291,
   "id": "9b7f74cb",
   "metadata": {},
   "outputs": [],
   "source": [
    "def draw_border(border_indx, a=0, b=-1):\n",
    "    area_a, area_b = region_indx[border_indx]\n",
    "    region_0 = points[points.uid==area_a][['east', 'north']].values\n",
    "    region_1 = points[points.uid==area_b][['east', 'north']].values\n",
    "\n",
    "    fig, ax = plt.subplots()\n",
    "    ax.set_aspect('equal', 'box')\n",
    "    plt.triplot(coords[:,0], coords[:,1], tri.simplices[boundaries[border_indx]], linewidth=0.5, color='grey')\n",
    "    plt.scatter(region_0[:,0], region_0[:,1], s=1)\n",
    "    plt.scatter(region_1[:,0], region_1[:,1], s=1)\n",
    "    for medial_coords in produce_border(border_indx)[:]:\n",
    "        print(len(medial_coords))\n",
    "        plt.plot(medial_coords[a:b,0], medial_coords[a:b,1], color='midnightblue', linewidth=1)\n",
    "    coord_list = [11119, 15851, 11120, 11238, 15567, 15565, 15554]\n",
    "    \n",
    "    simpx_list = [53543, 53548, 53549, 278330, 278331]\n",
    "    print(coords[coord_list])\n",
    "    plt.scatter(coords[coord_list,0], coords[coord_list,1], s=4, color='red')\n",
    "    plt.triplot(coords[:,0], coords[:,1], tri.simplices[simpx_list], linewidth=1, color='red')"
   ]
  },
  {
   "cell_type": "code",
   "execution_count": 255,
   "id": "79a26d6f",
   "metadata": {},
   "outputs": [
    {
     "data": {
      "text/plain": [
       "array([   6799,    6800,   14008,   14010,   28076,   53543,   53548,\n",
       "         53549,   53550,   53551,   53552,   53555,   53557,   53558,\n",
       "         53559,   66853,   66854,   66858,   66862,   66863,   95332,\n",
       "         95333,  114758,  114761,  114762,  156051,  156052,  156053,\n",
       "        156054,  156055,  156339,  156340,  156341,  156342,  182999,\n",
       "        183002,  183003,  183239,  183241,  241241,  241246,  241534,\n",
       "        241539,  241540,  241541,  241542,  241547,  241548,  278058,\n",
       "        278071,  278076,  278077,  278328,  278330,  278331,  356115,\n",
       "        356116,  403412,  403413,  403414,  403416,  403417,  403422,\n",
       "        403423,  403425,  403426,  403443,  403444, 1065888, 1065891,\n",
       "       1065892], dtype=int64)"
      ]
     },
     "execution_count": 255,
     "metadata": {},
     "output_type": "execute_result"
    }
   ],
   "source": [
    "boundaries[17]"
   ]
  },
  {
   "cell_type": "code",
   "execution_count": 432,
   "id": "0dbb7e3e",
   "metadata": {},
   "outputs": [
    {
     "name": "stdout",
     "output_type": "stream",
     "text": [
      "[ 4  5 23  3  2  0  1 15 14 13 12 10 11  7  6  8  9 56 55 43 42 24 21 20\n",
      " 22 25 19 17 16 18 54 41 40 38 39 53 66 67 68 69 59 58 60 61 62 51 52 63\n",
      " 65 64 36 35 37 57 49 48 46 45 47 50 33 32 34]\n",
      "[[-200.19316057  658.27106412]\n",
      " [-200.40659968  659.20293359]\n",
      " [-199.96245029  659.94296902]\n",
      " [-200.03582357  660.51142845]\n",
      " [-200.2884576   660.94512835]]\n",
      "63\n",
      "[[-199.27209873  657.51345991]\n",
      " [-201.1142224   659.02866833]\n",
      " [-199.69897696  659.37719884]\n",
      " [-186.35122503  665.2165333 ]\n",
      " [-185.85858085  665.69897153]\n",
      " [-185.21613721  664.86353055]\n",
      " [-186.29757004  665.45931221]]\n"
     ]
    },
    {
     "data": {
      "image/png": "[encoded data removed]",
      "text/plain": [
       "<Figure size 640x480 with 1 Axes>"
      ]
     },
     "metadata": {},
     "output_type": "display_data"
    }
   ],
   "source": [
    "draw_border(17)"
   ]
  },
  {
   "cell_type": "code",
   "execution_count": 431,
   "id": "eb188d6f",
   "metadata": {},
   "outputs": [
    {
     "name": "stdout",
     "output_type": "stream",
     "text": [
      "[ 4  5 23  3  2  0  1 15 14 13 12 10 11  7  6  8  9 56 55 43 42 24 21 20\n",
      " 22 25 19 17 16 18 54 41 40 38 39 53 66 67 68 69 59 58 60 61 62 51 52 63\n",
      " 65 64 36 35 37 57 49 48 46 45 47 50 33 32 34]\n",
      "[[-200.19316057  658.27106412]\n",
      " [-200.40659968  659.20293359]\n",
      " [-199.96245029  659.94296902]\n",
      " [-200.03582357  660.51142845]\n",
      " [-200.2884576   660.94512835]]\n"
     ]
    },
    {
     "data": {
      "text/plain": [
       "array([[-196.91992497,  639.55722149],\n",
       "       [-196.62784873,  640.60412858],\n",
       "       [-196.45917297,  641.05896774],\n",
       "       [-197.04845063,  642.63076012],\n",
       "       [-196.82190335,  643.97472366],\n",
       "       [-197.99315646,  647.31415189],\n",
       "       [-199.4307504 ,  650.93377347],\n",
       "       [-200.16587796,  650.85238026],\n",
       "       [-200.18670519,  651.55726229],\n",
       "       [-200.2724078 ,  651.97577616],\n",
       "       [-200.53042379,  654.45085254],\n",
       "       [-200.07478223,  655.53283701],\n",
       "       [-200.68455754,  656.21382312],\n",
       "       [-201.01438949,  656.83824388],\n",
       "       [-200.538227  ,  657.82969099],\n",
       "       [-200.19316057,  658.27106412],\n",
       "       [-200.40659968,  659.20293359],\n",
       "       [-199.96245029,  659.94296902],\n",
       "       [-200.03582357,  660.51142845],\n",
       "       [-200.2884576 ,  660.94512835],\n",
       "       [-199.74466036,  661.182637  ],\n",
       "       [-199.16113294,  661.71719528],\n",
       "       [-199.12297105,  662.15864568],\n",
       "       [-198.43113203,  662.26334867],\n",
       "       [-197.49920359,  662.11179275],\n",
       "       [-197.25860724,  661.73814656],\n",
       "       [-195.71706435,  662.22604811],\n",
       "       [-195.90737854,  662.7204439 ],\n",
       "       [-196.03311152,  663.74474818],\n",
       "       [-195.14480108,  664.08732279],\n",
       "       [-194.8856596 ,  664.56553824],\n",
       "       [-194.4735103 ,  664.96870107],\n",
       "       [-193.97037695,  665.39417217],\n",
       "       [-193.14989513,  666.16755926],\n",
       "       [-192.51249784,  666.47811044],\n",
       "       [-191.80066675,  666.49810886],\n",
       "       [-191.46212578,  666.3191081 ],\n",
       "       [-191.06652668,  667.04318344],\n",
       "       [-190.59094429,  666.93210084],\n",
       "       [-190.35286179,  666.93125113],\n",
       "       [-189.93650449,  666.74924383],\n",
       "       [-189.93968876,  666.39224548],\n",
       "       [-189.50836455,  665.29883464],\n",
       "       [-188.8689435 ,  664.5783373 ],\n",
       "       [-188.60349814,  664.14935255],\n",
       "       [-187.97477787,  663.84146245],\n",
       "       [-187.60549502,  664.04282398],\n",
       "       [-187.50035651,  664.34235734],\n",
       "       [-187.21019279,  664.38891381],\n",
       "       [-187.08950622,  664.76584622],\n",
       "       [-186.81454638,  665.19647566],\n",
       "       [-186.74534993,  665.37910207],\n",
       "       [-186.32439754,  665.33792276],\n",
       "       [-186.31824112,  665.32855973],\n",
       "       [-186.10490294,  665.45775242],\n",
       "       [-185.78368112,  665.04003193],\n",
       "       [-185.85287758,  664.85740552],\n",
       "       [-185.97356416,  664.48047311],\n",
       "       [-185.84541559,  664.02407418],\n",
       "       [-185.26879862,  662.95261071],\n",
       "       [-184.9094199 ,  663.12280419],\n",
       "       [-183.81932146,  663.83250063],\n",
       "       [-183.06287697,  664.33381021]])"
      ]
     },
     "execution_count": 431,
     "metadata": {},
     "output_type": "execute_result"
    }
   ],
   "source": [
    "produce_border(17)[0]"
   ]
  },
  {
   "cell_type": "code",
   "execution_count": null,
   "id": "e213a943",
   "metadata": {},
   "outputs": [],
   "source": [
    "'''\n",
    "aug_a[indx] -> unq\n",
    "unq[inv]    ->(subset) aug_a\n",
    "'''"
   ]
  },
  {
   "cell_type": "code",
   "execution_count": 443,
   "id": "51efbc12",
   "metadata": {},
   "outputs": [
    {
     "data": {
      "text/plain": [
       "19402857"
      ]
     },
     "execution_count": 443,
     "metadata": {},
     "output_type": "execute_result"
    }
   ],
   "source": [
    "int('19402857')"
   ]
  },
  {
   "cell_type": "code",
   "execution_count": 445,
   "id": "1ccbc3b9",
   "metadata": {},
   "outputs": [
    {
     "data": {
      "text/plain": [
       "20239508392"
      ]
     },
     "execution_count": 445,
     "metadata": {},
     "output_type": "execute_result"
    }
   ],
   "source": [
    "np.uint64('20239508392')"
   ]
  },
  {
   "cell_type": "code",
   "execution_count": 446,
   "id": "26cf9532",
   "metadata": {},
   "outputs": [],
   "source": [
    "def lpad(nums, x=7):\n",
    "    return np.uint64(''.join([str(num).zfill(x) for num in nums]))\n",
    "\n",
    "lpad_np = np.vectorize(lpad, signature='(m)->()')\n",
    "\n",
    "def row_inclusion(np_a, np_b):\n",
    "    return np.isin(lpad_np(np_a), lpad_np(np_b))\n",
    "\n",
    "\n",
    "def produce_border(border_idx):\n",
    "\n",
    "    test_tris = tri.simplices[boundaries[border_idx]]\n",
    "    area_pair = region_indx[border_idx]\n",
    "\n",
    "    all_edges = np.c_[test_tris, test_tris].reshape((len(test_tris), 3, 2))\n",
    "    all_tris  = np.rollaxis(np.tile(boundaries[border_idx], (3, 2, 1)), 2)\n",
    "    edge_uids = assign_uid(all_edges)\n",
    "\n",
    "    medial_a   = np.any(edge_uids==area_pair[0], axis=2)\n",
    "    medial_b   = np.any(edge_uids==area_pair[1], axis=2)\n",
    "    medial_bool = medial_a & medial_b\n",
    "\n",
    "    aug_edges = np.c_[all_edges[:,:,:,np.newaxis], all_tris[:,:,:,np.newaxis]]\n",
    "    aug_medial_edges = np.c_[aug_edges[medial_bool][:,:,0], aug_edges[medial_bool][:,:1,1]]\n",
    "    aug_medial_edges[:,:2].sort(axis=1)\n",
    "\n",
    "    aug_a = aug_medial_edges.copy()\n",
    "    aug_b = aug_a.copy()\n",
    "\n",
    "    aug_a = aug_a[aug_a[:, 2].argsort()]\n",
    "    aug_b = aug_b[aug_b[:, 2].argsort()[::-1]]\n",
    "    aug_a = aug_a[aug_a[:, 1].argsort(kind='mergesort')]\n",
    "    aug_b = aug_b[aug_b[:, 1].argsort(kind='mergesort')]\n",
    "    aug_a = aug_a[aug_a[:, 0].argsort(kind='mergesort')]\n",
    "    aug_b = aug_b[aug_b[:, 0].argsort(kind='mergesort')]\n",
    "\n",
    "    aug_a = np.c_[aug_a, aug_b[:,2]]\n",
    "    aug_a[:,2:].sort()\n",
    "    _, idx = np.unique(aug_a, return_index=True, axis=0)\n",
    "    aug_a = aug_a[np.sort(idx)]\n",
    "    \n",
    "    simplex_list = list(boundaries[border_idx].copy())\n",
    "    coords_list  = []\n",
    "    while len(simplex_list)>0:\n",
    "        \n",
    "        simplex_bool = np.isin(aug_a[:,2:], np.array(simplex_list))\n",
    "        unq, counts = np.unique(aug_a[:,2:][simplex_bool], return_counts=True)\n",
    "        adjacent = unq[counts==1]\n",
    "        \n",
    "        if len(adjacent)>0:\n",
    "            start_tri = adjacent[0]\n",
    "        else:\n",
    "            start_tri = unq[0]\n",
    "\n",
    "        tri_path = [start_tri]\n",
    "        current = start_tri\n",
    "        while True:\n",
    "            nbrs = aug_a[np.any(aug_a[:,2:]==current, axis=1)][:,2:]\n",
    "            nbrs = [i for i in nbrs.flatten() if i != current]\n",
    "            if len(nbrs)==0:\n",
    "                break\n",
    "            elif nbrs[0] not in tri_path:\n",
    "                current = nbrs[0]\n",
    "            elif len(nbrs)==1:\n",
    "                break\n",
    "            elif nbrs[1] not in tri_path:\n",
    "                current = nbrs[1]\n",
    "            else:\n",
    "                break\n",
    "                \n",
    "            tri_path += [current]\n",
    "\n",
    "        edge_lookup = np.c_[np.array(tri_path)[:-1], np.array(tri_path)[1:]]\n",
    "        edge_lookup.sort(axis=1)\n",
    "\n",
    "        unqe, inv = np.unique(edge_lookup, return_inverse=True, axis=0)\n",
    "        hits, idx = np.unique(aug_a[:,2:], return_index=True, axis=0)\n",
    "        \n",
    "        if len(hits)>1:\n",
    "            missing_idxs = np.arange(len(hits))[row_inclusion(hits, unqe)]\n",
    "            idx_dict = {i:missing_idxs[i] for i in range(len(unqe))}\n",
    "            match_idx = np.vectorize(lambda x: idx_dict.get(x, None))\n",
    "            inv = match_idx(inv)\n",
    "        medial_edges = aug_a[idx][inv][:,:2].copy()\n",
    "        \n",
    "        medial_coords = np.mean(coords[medial_edges], axis=1)\n",
    "        \n",
    "        coords_list += [medial_coords]\n",
    "        simplex_list = [i for i in simplex_list if i not in hits]\n",
    "\n",
    "    return coords_list"
   ]
  }
 ],
 "metadata": {
  "kernelspec": {
   "display_name": "Python 3 (ipykernel)",
   "language": "python",
   "name": "python3"
  },
  "language_info": {
   "codemirror_mode": {
    "name": "ipython",
    "version": 3
   },
   "file_extension": ".py",
   "mimetype": "text/x-python",
   "name": "python",
   "nbconvert_exporter": "python",
   "pygments_lexer": "ipython3",
   "version": "3.9.13"
  },
  "latex_envs": {
   "LaTeX_envs_menu_present": true,
   "autoclose": false,
   "autocomplete": true,
   "bibliofile": "biblio.bib",
   "cite_by": "apalike",
   "current_citInitial": 1,
   "eqLabelWithNumbers": true,
   "eqNumInitial": 1,
   "hotkeys": {
    "equation": "Ctrl-E",
    "itemize": "Ctrl-I"
   },
   "labels_anchors": false,
   "latex_user_defs": false,
   "report_style_numbering": false,
   "user_envs_cfg": false
  },
  "toc": {
   "base_numbering": 1,
   "nav_menu": {},
   "number_sections": true,
   "sideBar": true,
   "skip_h1_title": false,
   "title_cell": "Table of Contents",
   "title_sidebar": "Contents",
   "toc_cell": false,
   "toc_position": {},
   "toc_section_display": true,
   "toc_window_display": false
  }
 },
 "nbformat": 4,
 "nbformat_minor": 5
}
